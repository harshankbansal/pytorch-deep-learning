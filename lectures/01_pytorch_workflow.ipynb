{
  "cells": [
    {
      "cell_type": "markdown",
      "metadata": {
        "id": "view-in-github",
        "colab_type": "text"
      },
      "source": [
        "<a href=\"https://colab.research.google.com/github/harshankbansal/pytorch-deep-learning/blob/main/lectures/01_pytorch_workflow.ipynb\" target=\"_parent\"><img src=\"https://colab.research.google.com/assets/colab-badge.svg\" alt=\"Open In Colab\"/></a>"
      ]
    },
    {
      "cell_type": "code",
      "execution_count": 29,
      "id": "40933e10",
      "metadata": {
        "vscode": {
          "languageId": "plaintext"
        },
        "id": "40933e10"
      },
      "outputs": [],
      "source": [
        "import torch\n",
        "from torch import nn\n",
        "import matplotlib.pyplot as plt"
      ]
    },
    {
      "cell_type": "code",
      "source": [
        "torch.__version__"
      ],
      "metadata": {
        "colab": {
          "base_uri": "https://localhost:8080/",
          "height": 35
        },
        "id": "SSIu_MJbKdJm",
        "outputId": "cf74ae8f-77e9-4d2e-d32b-3d18dcd78c4b"
      },
      "id": "SSIu_MJbKdJm",
      "execution_count": 30,
      "outputs": [
        {
          "output_type": "execute_result",
          "data": {
            "text/plain": [
              "'2.8.0+cu126'"
            ],
            "application/vnd.google.colaboratory.intrinsic+json": {
              "type": "string"
            }
          },
          "metadata": {},
          "execution_count": 30
        }
      ]
    },
    {
      "cell_type": "code",
      "source": [
        "weight = 0.7\n",
        "bias = 0.3\n",
        "\n",
        "X = torch.arange(0, 1, 0.02).unsqueeze(1)\n",
        "y = weight * X + bias\n",
        "X[:5],y[:5]"
      ],
      "metadata": {
        "colab": {
          "base_uri": "https://localhost:8080/"
        },
        "id": "-IiB_Sj7KhsG",
        "outputId": "6626a10b-c187-4e0f-d001-f9dcb17f375b"
      },
      "id": "-IiB_Sj7KhsG",
      "execution_count": 31,
      "outputs": [
        {
          "output_type": "execute_result",
          "data": {
            "text/plain": [
              "(tensor([[0.0000],\n",
              "         [0.0200],\n",
              "         [0.0400],\n",
              "         [0.0600],\n",
              "         [0.0800]]),\n",
              " tensor([[0.3000],\n",
              "         [0.3140],\n",
              "         [0.3280],\n",
              "         [0.3420],\n",
              "         [0.3560]]))"
            ]
          },
          "metadata": {},
          "execution_count": 31
        }
      ]
    },
    {
      "cell_type": "code",
      "source": [
        "# split into train and test\n"
      ],
      "metadata": {
        "id": "hFRdVCmSMfCy"
      },
      "id": "hFRdVCmSMfCy",
      "execution_count": 32,
      "outputs": []
    },
    {
      "cell_type": "code",
      "metadata": {
        "id": "1b971377",
        "outputId": "05175d39-39b8-47c8-e698-5ad078e81fd1",
        "colab": {
          "base_uri": "https://localhost:8080/"
        }
      },
      "source": [
        "train_split = int(0.8 * len(X))\n",
        "X_train, y_train = X[:train_split], y[:train_split]\n",
        "X_test, y_test = X[train_split:], y[train_split:]\n",
        "\n",
        "print(f\"Length of X_train: {len(X_train)}\")\n",
        "print(f\"Length of y_train: {len(y_train)}\")\n",
        "print(f\"Length of X_test: {len(X_test)}\")\n",
        "print(f\"Length of y_test: {len(y_test)}\")"
      ],
      "id": "1b971377",
      "execution_count": 33,
      "outputs": [
        {
          "output_type": "stream",
          "name": "stdout",
          "text": [
            "Length of X_train: 40\n",
            "Length of y_train: 40\n",
            "Length of X_test: 10\n",
            "Length of y_test: 10\n"
          ]
        }
      ]
    },
    {
      "cell_type": "code",
      "source": [
        "def plot_data(X_train, y_train, X_test, y_test, prediction):\n",
        "    plt.figure(figsize=(10, 7))\n",
        "    plt.scatter(X_train, y_train, c=\"b\", s=4, label=\"training data\")\n",
        "    plt.scatter(X_test, y_test, c=\"r\", s=4, label=\"testing data\")\n",
        "    if prediction is not None:\n",
        "        plt.scatter(X_test, prediction, c=\"g\", s=6, label=\"prediction\")\n",
        "\n",
        "    plt.legend()"
      ],
      "metadata": {
        "id": "4Ro-pMdUNuLo"
      },
      "id": "4Ro-pMdUNuLo",
      "execution_count": 34,
      "outputs": []
    },
    {
      "cell_type": "code",
      "source": [
        "plot_data(X_train, y_train, X_test, y_test, None)"
      ],
      "metadata": {
        "id": "Bpb-7flnOQQQ",
        "outputId": "8f8c02bf-2380-4174-a5b7-8d71aa553cee",
        "colab": {
          "base_uri": "https://localhost:8080/",
          "height": 599
        }
      },
      "id": "Bpb-7flnOQQQ",
      "execution_count": 35,
      "outputs": [
        {
          "output_type": "display_data",
          "data": {
            "text/plain": [
              "<Figure size 1000x700 with 1 Axes>"
            ],
            "image/png": "[encoded data removed]"
          },
          "metadata": {}
        }
      ]
    },
    {
      "cell_type": "code",
      "source": [
        "from typing_extensions import overload\n",
        "### Create model\n",
        "class LinearRegression(nn.Module):\n",
        "  def __init__(self):\n",
        "    super().__init__()\n",
        "    self.weights = nn.Parameter(torch.randn(1, requires_grad=True, dtype=torch.float))\n",
        "    self.bais = nn.Parameter(torch.randn(1, requires_grad=True, dtype=torch.float))\n",
        "\n",
        "\n",
        "  def forward(self, x: torch.Tensor) -> torch.Tensor:\n",
        "    return self.weights * x + self.bais"
      ],
      "metadata": {
        "id": "Q0yuH94hzIPJ"
      },
      "id": "Q0yuH94hzIPJ",
      "execution_count": 36,
      "outputs": []
    },
    {
      "cell_type": "code",
      "source": [
        "torch.manual_seed(42)\n",
        "model_0 = LinearRegression()\n",
        "list(model_0.named_parameters())"
      ],
      "metadata": {
        "id": "V6H1kiqhXpaV",
        "outputId": "de130860-a291-43d8-bf7a-f27b48a715fb",
        "colab": {
          "base_uri": "https://localhost:8080/"
        }
      },
      "id": "V6H1kiqhXpaV",
      "execution_count": 37,
      "outputs": [
        {
          "output_type": "execute_result",
          "data": {
            "text/plain": [
              "[('weights',\n",
              "  Parameter containing:\n",
              "  tensor([0.3367], requires_grad=True)),\n",
              " ('bais',\n",
              "  Parameter containing:\n",
              "  tensor([0.1288], requires_grad=True))]"
            ]
          },
          "metadata": {},
          "execution_count": 37
        }
      ]
    },
    {
      "cell_type": "code",
      "source": [
        "X_test, y_test"
      ],
      "metadata": {
        "id": "8KhvVnmUenLK",
        "outputId": "b4609ce8-ed7a-46f9-d3ab-99f2aa942616",
        "colab": {
          "base_uri": "https://localhost:8080/"
        }
      },
      "id": "8KhvVnmUenLK",
      "execution_count": 38,
      "outputs": [
        {
          "output_type": "execute_result",
          "data": {
            "text/plain": [
              "(tensor([[0.8000],\n",
              "         [0.8200],\n",
              "         [0.8400],\n",
              "         [0.8600],\n",
              "         [0.8800],\n",
              "         [0.9000],\n",
              "         [0.9200],\n",
              "         [0.9400],\n",
              "         [0.9600],\n",
              "         [0.9800]]),\n",
              " tensor([[0.8600],\n",
              "         [0.8740],\n",
              "         [0.8880],\n",
              "         [0.9020],\n",
              "         [0.9160],\n",
              "         [0.9300],\n",
              "         [0.9440],\n",
              "         [0.9580],\n",
              "         [0.9720],\n",
              "         [0.9860]]))"
            ]
          },
          "metadata": {},
          "execution_count": 38
        }
      ]
    },
    {
      "cell_type": "code",
      "source": [
        "#generate predictions\n",
        "with torch.inference_mode():\n",
        "  y_preds = model_0(X_test)\n",
        "\n",
        "(y_preds,y_test)"
      ],
      "metadata": {
        "id": "Xtz9HvqkcnEH",
        "outputId": "418b3bee-c4db-4647-b3b4-50d36f12b1b5",
        "colab": {
          "base_uri": "https://localhost:8080/"
        }
      },
      "id": "Xtz9HvqkcnEH",
      "execution_count": 39,
      "outputs": [
        {
          "output_type": "execute_result",
          "data": {
            "text/plain": [
              "(tensor([[0.3982],\n",
              "         [0.4049],\n",
              "         [0.4116],\n",
              "         [0.4184],\n",
              "         [0.4251],\n",
              "         [0.4318],\n",
              "         [0.4386],\n",
              "         [0.4453],\n",
              "         [0.4520],\n",
              "         [0.4588]]),\n",
              " tensor([[0.8600],\n",
              "         [0.8740],\n",
              "         [0.8880],\n",
              "         [0.9020],\n",
              "         [0.9160],\n",
              "         [0.9300],\n",
              "         [0.9440],\n",
              "         [0.9580],\n",
              "         [0.9720],\n",
              "         [0.9860]]))"
            ]
          },
          "metadata": {},
          "execution_count": 39
        }
      ]
    },
    {
      "cell_type": "code",
      "source": [
        "plot_data(X_train, y_train, X_test, y_test, y_preds)"
      ],
      "metadata": {
        "id": "cgZLqgoHd8VD",
        "outputId": "1779f398-aa0d-4e53-ea3e-f167c4a1ba00",
        "colab": {
          "base_uri": "https://localhost:8080/",
          "height": 599
        }
      },
      "id": "cgZLqgoHd8VD",
      "execution_count": 40,
      "outputs": [
        {
          "output_type": "display_data",
          "data": {
            "text/plain": [
              "<Figure size 1000x700 with 1 Axes>"
            ],
            "image/png": "[encoded data removed]"
          },
          "metadata": {}
        }
      ]
    },
    {
      "cell_type": "code",
      "source": [
        "loss_fn = torch.nn.L1Loss()\n",
        "optimizer = torch.optim.SGD(\n",
        "    params=model_0.parameters(),\n",
        "    loss_fn=loss_fn,\n",
        "    lr=0.01\n",
        ")"
      ],
      "metadata": {
        "id": "IJmu8koV8uJG"
      },
      "id": "IJmu8koV8uJG",
      "execution_count": null,
      "outputs": []
    }
  ],
  "metadata": {
    "language_info": {
      "name": "python"
    },
    "colab": {
      "provenance": [],
      "include_colab_link": true
    },
    "kernelspec": {
      "name": "python3",
      "display_name": "Python 3"
    }
  },
  "nbformat": 4,
  "nbformat_minor": 5
}