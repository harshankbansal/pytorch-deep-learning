{
 "cells": [
  {
   "cell_type": "markdown",
   "id": "aac24894",
   "metadata": {},
   "source": [
    "## Understand Data"
   ]
  },
  {
   "cell_type": "markdown",
   "id": "e2863576",
   "metadata": {},
   "source": [
    "### Download Data"
   ]
  },
  {
   "cell_type": "code",
   "execution_count": null,
   "id": "43530b39",
   "metadata": {},
   "outputs": [],
   "source": [
    "# Set up imports. Thanks to python it is unnecessarily complicated\n",
    "try:\n",
    "    import google.colab\n",
    "    IN_COLAB = True\n",
    "except ImportError:\n",
    "    IN_COLAB = False\n",
    "\n",
    "if not IN_COLAB:\n",
    "    try:\n",
    "        from helper_functions import PytorchModelTranier\n",
    "    except ImportError:\n",
    "        import os\n",
    "        import sys\n",
    "        from pathlib import Path\n",
    "        sys.path.append(str(Path(os.path.abspath('')).parent))\n",
    "        from helper_functions import PytorchModelTranier\n",
    "else:\n",
    "    try:\n",
    "        from helper_functions import PytorchModelTranier\n",
    "    except:\n",
    "        # Get the going_modular scripts\n",
    "        print(\"[INFO] Couldn't find going_modular scripts... downloading them from GitHub.\")\n",
    "        !git clone https://github.com/harshankbansal/pytorch-deep-learning\n",
    "        !mv pytorch-deep-learning/going_modular .\n",
    "        !mv pytorch-deep-learning/helper_functions.py .\n",
    "        !mv pytorch-deep-learning/data .\n",
    "        !rm -rf pytorch-deep-learning\n",
    "        from helper_functions import PytorchModelTranier\n",
    "    try:\n",
    "      from torchinfo import summary\n",
    "    except ImportError:\n",
    "      !pip install torchinfo\n",
    "      from torchinfo import summary"
   ]
  },
  {
   "cell_type": "code",
   "execution_count": null,
   "id": "3665a905",
   "metadata": {},
   "outputs": [],
   "source": [
    "import torch\n",
    "import torchvision\n",
    "from torchvision import datasets\n",
    "import matplotlib.pyplot as plt\n",
    "\n",
    "RANDOM_SEED=42"
   ]
  },
  {
   "cell_type": "code",
   "execution_count": null,
   "id": "1570cc70",
   "metadata": {},
   "outputs": [],
   "source": [
    "train_data = datasets.FashionMNIST(\n",
    "    root='../data',\n",
    "    train=True,\n",
    "    download=True,\n",
    "    target_transform=None,\n",
    "    transform=torchvision.transforms.ToTensor()\n",
    ")"
   ]
  },
  {
   "cell_type": "code",
   "execution_count": null,
   "id": "72746f93",
   "metadata": {},
   "outputs": [],
   "source": [
    "test_data = datasets.FashionMNIST(\n",
    "    root='../data',\n",
    "    train=False,\n",
    "    download=True,\n",
    "    target_transform=None,\n",
    "    transform=torchvision.transforms.ToTensor()\n",
    ")"
   ]
  },
  {
   "cell_type": "markdown",
   "id": "13d10b0b",
   "metadata": {},
   "source": [
    "### Understanding data"
   ]
  },
  {
   "cell_type": "code",
   "execution_count": null,
   "id": "73808b63",
   "metadata": {},
   "outputs": [
    {
     "data": {
      "text/plain": [
       "(60000, 10000, torchvision.datasets.mnist.FashionMNIST)"
      ]
     },
     "execution_count": 5,
     "metadata": {},
     "output_type": "execute_result"
    }
   ],
   "source": [
    "len(train_data), len(test_data), type(train_data)"
   ]
  },
  {
   "cell_type": "code",
   "execution_count": null,
   "id": "87bdc7ba",
   "metadata": {},
   "outputs": [
    {
     "data": {
      "text/plain": [
       "(9,\n",
       " tensor([[[0.0000, 0.0000, 0.0000, 0.0000, 0.0000, 0.0000, 0.0000, 0.0000,\n",
       "           0.0000, 0.0000, 0.0000, 0.0000, 0.0000, 0.0000, 0.0000, 0.0000,\n",
       "           0.0000, 0.0000, 0.0000, 0.0000, 0.0000, 0.0000, 0.0000, 0.0000,\n",
       "           0.0000, 0.0000, 0.0000, 0.0000],\n",
       "          [0.0000, 0.0000, 0.0000, 0.0000, 0.0000, 0.0000, 0.0000, 0.0000,\n",
       "           0.0000, 0.0000, 0.0000, 0.0000, 0.0000, 0.0000, 0.0000, 0.0000,\n",
       "           0.0000, 0.0000, 0.0000, 0.0000, 0.0000, 0.0000, 0.0000, 0.0000,\n",
       "           0.0000, 0.0000, 0.0000, 0.0000],\n",
       "          [0.0000, 0.0000, 0.0000, 0.0000, 0.0000, 0.0000, 0.0000, 0.0000,\n",
       "           0.0000, 0.0000, 0.0000, 0.0000, 0.0000, 0.0000, 0.0000, 0.0000,\n",
       "           0.0000, 0.0000, 0.0000, 0.0000, 0.0000, 0.0000, 0.0000, 0.0000,\n",
       "           0.0000, 0.0000, 0.0000, 0.0000],\n",
       "          [0.0000, 0.0000, 0.0000, 0.0000, 0.0000, 0.0000, 0.0000, 0.0000,\n",
       "           0.0000, 0.0000, 0.0000, 0.0000, 0.0039, 0.0000, 0.0000, 0.0510,\n",
       "           0.2863, 0.0000, 0.0000, 0.0039, 0.0157, 0.0000, 0.0000, 0.0000,\n",
       "           0.0000, 0.0039, 0.0039, 0.0000],\n",
       "          [0.0000, 0.0000, 0.0000, 0.0000, 0.0000, 0.0000, 0.0000, 0.0000,\n",
       "           0.0000, 0.0000, 0.0000, 0.0000, 0.0118, 0.0000, 0.1412, 0.5333,\n",
       "           0.4980, 0.2431, 0.2118, 0.0000, 0.0000, 0.0000, 0.0039, 0.0118,\n",
       "           0.0157, 0.0000, 0.0000, 0.0118],\n",
       "          [0.0000, 0.0000, 0.0000, 0.0000, 0.0000, 0.0000, 0.0000, 0.0000,\n",
       "           0.0000, 0.0000, 0.0000, 0.0000, 0.0235, 0.0000, 0.4000, 0.8000,\n",
       "           0.6902, 0.5255, 0.5647, 0.4824, 0.0902, 0.0000, 0.0000, 0.0000,\n",
       "           0.0000, 0.0471, 0.0392, 0.0000],\n",
       "          [0.0000, 0.0000, 0.0000, 0.0000, 0.0000, 0.0000, 0.0000, 0.0000,\n",
       "           0.0000, 0.0000, 0.0000, 0.0000, 0.0000, 0.0000, 0.6078, 0.9255,\n",
       "           0.8118, 0.6980, 0.4196, 0.6118, 0.6314, 0.4275, 0.2510, 0.0902,\n",
       "           0.3020, 0.5098, 0.2824, 0.0588],\n",
       "          [0.0000, 0.0000, 0.0000, 0.0000, 0.0000, 0.0000, 0.0000, 0.0000,\n",
       "           0.0000, 0.0000, 0.0000, 0.0039, 0.0000, 0.2706, 0.8118, 0.8745,\n",
       "           0.8549, 0.8471, 0.8471, 0.6392, 0.4980, 0.4745, 0.4784, 0.5725,\n",
       "           0.5529, 0.3451, 0.6745, 0.2588],\n",
       "          [0.0000, 0.0000, 0.0000, 0.0000, 0.0000, 0.0000, 0.0000, 0.0000,\n",
       "           0.0000, 0.0039, 0.0039, 0.0039, 0.0000, 0.7843, 0.9098, 0.9098,\n",
       "           0.9137, 0.8980, 0.8745, 0.8745, 0.8431, 0.8353, 0.6431, 0.4980,\n",
       "           0.4824, 0.7686, 0.8980, 0.0000],\n",
       "          [0.0000, 0.0000, 0.0000, 0.0000, 0.0000, 0.0000, 0.0000, 0.0000,\n",
       "           0.0000, 0.0000, 0.0000, 0.0000, 0.0000, 0.7176, 0.8824, 0.8471,\n",
       "           0.8745, 0.8941, 0.9216, 0.8902, 0.8784, 0.8706, 0.8784, 0.8667,\n",
       "           0.8745, 0.9608, 0.6784, 0.0000],\n",
       "          [0.0000, 0.0000, 0.0000, 0.0000, 0.0000, 0.0000, 0.0000, 0.0000,\n",
       "           0.0000, 0.0000, 0.0000, 0.0000, 0.0000, 0.7569, 0.8941, 0.8549,\n",
       "           0.8353, 0.7765, 0.7059, 0.8314, 0.8235, 0.8275, 0.8353, 0.8745,\n",
       "           0.8627, 0.9529, 0.7922, 0.0000],\n",
       "          [0.0000, 0.0000, 0.0000, 0.0000, 0.0000, 0.0000, 0.0000, 0.0000,\n",
       "           0.0000, 0.0039, 0.0118, 0.0000, 0.0471, 0.8588, 0.8627, 0.8314,\n",
       "           0.8549, 0.7529, 0.6627, 0.8902, 0.8157, 0.8549, 0.8784, 0.8314,\n",
       "           0.8863, 0.7725, 0.8196, 0.2039],\n",
       "          [0.0000, 0.0000, 0.0000, 0.0000, 0.0000, 0.0000, 0.0000, 0.0000,\n",
       "           0.0000, 0.0000, 0.0235, 0.0000, 0.3882, 0.9569, 0.8706, 0.8627,\n",
       "           0.8549, 0.7961, 0.7765, 0.8667, 0.8431, 0.8353, 0.8706, 0.8627,\n",
       "           0.9608, 0.4667, 0.6549, 0.2196],\n",
       "          [0.0000, 0.0000, 0.0000, 0.0000, 0.0000, 0.0000, 0.0000, 0.0000,\n",
       "           0.0000, 0.0157, 0.0000, 0.0000, 0.2157, 0.9255, 0.8941, 0.9020,\n",
       "           0.8941, 0.9412, 0.9098, 0.8353, 0.8549, 0.8745, 0.9176, 0.8510,\n",
       "           0.8510, 0.8196, 0.3608, 0.0000],\n",
       "          [0.0000, 0.0000, 0.0039, 0.0157, 0.0235, 0.0275, 0.0078, 0.0000,\n",
       "           0.0000, 0.0000, 0.0000, 0.0000, 0.9294, 0.8863, 0.8510, 0.8745,\n",
       "           0.8706, 0.8588, 0.8706, 0.8667, 0.8471, 0.8745, 0.8980, 0.8431,\n",
       "           0.8549, 1.0000, 0.3020, 0.0000],\n",
       "          [0.0000, 0.0118, 0.0000, 0.0000, 0.0000, 0.0000, 0.0000, 0.0000,\n",
       "           0.0000, 0.2431, 0.5686, 0.8000, 0.8941, 0.8118, 0.8353, 0.8667,\n",
       "           0.8549, 0.8157, 0.8275, 0.8549, 0.8784, 0.8745, 0.8588, 0.8431,\n",
       "           0.8784, 0.9569, 0.6235, 0.0000],\n",
       "          [0.0000, 0.0000, 0.0000, 0.0000, 0.0706, 0.1725, 0.3216, 0.4196,\n",
       "           0.7412, 0.8941, 0.8627, 0.8706, 0.8510, 0.8863, 0.7843, 0.8039,\n",
       "           0.8275, 0.9020, 0.8784, 0.9176, 0.6902, 0.7373, 0.9804, 0.9725,\n",
       "           0.9137, 0.9333, 0.8431, 0.0000],\n",
       "          [0.0000, 0.2235, 0.7333, 0.8157, 0.8784, 0.8667, 0.8784, 0.8157,\n",
       "           0.8000, 0.8392, 0.8157, 0.8196, 0.7843, 0.6235, 0.9608, 0.7569,\n",
       "           0.8078, 0.8745, 1.0000, 1.0000, 0.8667, 0.9176, 0.8667, 0.8275,\n",
       "           0.8627, 0.9098, 0.9647, 0.0000],\n",
       "          [0.0118, 0.7922, 0.8941, 0.8784, 0.8667, 0.8275, 0.8275, 0.8392,\n",
       "           0.8039, 0.8039, 0.8039, 0.8627, 0.9412, 0.3137, 0.5882, 1.0000,\n",
       "           0.8980, 0.8667, 0.7373, 0.6039, 0.7490, 0.8235, 0.8000, 0.8196,\n",
       "           0.8706, 0.8941, 0.8824, 0.0000],\n",
       "          [0.3843, 0.9137, 0.7765, 0.8235, 0.8706, 0.8980, 0.8980, 0.9176,\n",
       "           0.9765, 0.8627, 0.7608, 0.8431, 0.8510, 0.9451, 0.2549, 0.2863,\n",
       "           0.4157, 0.4588, 0.6588, 0.8588, 0.8667, 0.8431, 0.8510, 0.8745,\n",
       "           0.8745, 0.8784, 0.8980, 0.1137],\n",
       "          [0.2941, 0.8000, 0.8314, 0.8000, 0.7569, 0.8039, 0.8275, 0.8824,\n",
       "           0.8471, 0.7255, 0.7725, 0.8078, 0.7765, 0.8353, 0.9412, 0.7647,\n",
       "           0.8902, 0.9608, 0.9373, 0.8745, 0.8549, 0.8314, 0.8196, 0.8706,\n",
       "           0.8627, 0.8667, 0.9020, 0.2627],\n",
       "          [0.1882, 0.7961, 0.7176, 0.7608, 0.8353, 0.7725, 0.7255, 0.7451,\n",
       "           0.7608, 0.7529, 0.7922, 0.8392, 0.8588, 0.8667, 0.8627, 0.9255,\n",
       "           0.8824, 0.8471, 0.7804, 0.8078, 0.7294, 0.7098, 0.6941, 0.6745,\n",
       "           0.7098, 0.8039, 0.8078, 0.4510],\n",
       "          [0.0000, 0.4784, 0.8588, 0.7569, 0.7020, 0.6706, 0.7176, 0.7686,\n",
       "           0.8000, 0.8235, 0.8353, 0.8118, 0.8275, 0.8235, 0.7843, 0.7686,\n",
       "           0.7608, 0.7490, 0.7647, 0.7490, 0.7765, 0.7529, 0.6902, 0.6118,\n",
       "           0.6549, 0.6941, 0.8235, 0.3608],\n",
       "          [0.0000, 0.0000, 0.2902, 0.7412, 0.8314, 0.7490, 0.6863, 0.6745,\n",
       "           0.6863, 0.7098, 0.7255, 0.7373, 0.7412, 0.7373, 0.7569, 0.7765,\n",
       "           0.8000, 0.8196, 0.8235, 0.8235, 0.8275, 0.7373, 0.7373, 0.7608,\n",
       "           0.7529, 0.8471, 0.6667, 0.0000],\n",
       "          [0.0078, 0.0000, 0.0000, 0.0000, 0.2588, 0.7843, 0.8706, 0.9294,\n",
       "           0.9373, 0.9490, 0.9647, 0.9529, 0.9569, 0.8667, 0.8627, 0.7569,\n",
       "           0.7490, 0.7020, 0.7137, 0.7137, 0.7098, 0.6902, 0.6510, 0.6588,\n",
       "           0.3882, 0.2275, 0.0000, 0.0000],\n",
       "          [0.0000, 0.0000, 0.0000, 0.0000, 0.0000, 0.0000, 0.0000, 0.1569,\n",
       "           0.2392, 0.1725, 0.2824, 0.1608, 0.1373, 0.0000, 0.0000, 0.0000,\n",
       "           0.0000, 0.0000, 0.0000, 0.0000, 0.0000, 0.0000, 0.0000, 0.0000,\n",
       "           0.0000, 0.0000, 0.0000, 0.0000],\n",
       "          [0.0000, 0.0000, 0.0000, 0.0000, 0.0000, 0.0000, 0.0000, 0.0000,\n",
       "           0.0000, 0.0000, 0.0000, 0.0000, 0.0000, 0.0000, 0.0000, 0.0000,\n",
       "           0.0000, 0.0000, 0.0000, 0.0000, 0.0000, 0.0000, 0.0000, 0.0000,\n",
       "           0.0000, 0.0000, 0.0000, 0.0000],\n",
       "          [0.0000, 0.0000, 0.0000, 0.0000, 0.0000, 0.0000, 0.0000, 0.0000,\n",
       "           0.0000, 0.0000, 0.0000, 0.0000, 0.0000, 0.0000, 0.0000, 0.0000,\n",
       "           0.0000, 0.0000, 0.0000, 0.0000, 0.0000, 0.0000, 0.0000, 0.0000,\n",
       "           0.0000, 0.0000, 0.0000, 0.0000]]]))"
      ]
     },
     "execution_count": 6,
     "metadata": {},
     "output_type": "execute_result"
    }
   ],
   "source": [
    "image, label = train_data[0]\n",
    "label, image"
   ]
  },
  {
   "cell_type": "code",
   "execution_count": null,
   "id": "e7046733",
   "metadata": {},
   "outputs": [
    {
     "data": {
      "text/plain": [
       "{'T-shirt/top': 0,\n",
       " 'Trouser': 1,\n",
       " 'Pullover': 2,\n",
       " 'Dress': 3,\n",
       " 'Coat': 4,\n",
       " 'Sandal': 5,\n",
       " 'Shirt': 6,\n",
       " 'Sneaker': 7,\n",
       " 'Bag': 8,\n",
       " 'Ankle boot': 9}"
      ]
     },
     "execution_count": 7,
     "metadata": {},
     "output_type": "execute_result"
    }
   ],
   "source": [
    "train_data.class_to_idx"
   ]
  },
  {
   "cell_type": "code",
   "execution_count": null,
   "id": "f367fe65",
   "metadata": {},
   "outputs": [
    {
     "data": {
      "text/plain": [
       "(torch.Size([1, 28, 28]), torch.Tensor, 9, int)"
      ]
     },
     "execution_count": 8,
     "metadata": {},
     "output_type": "execute_result"
    }
   ],
   "source": [
    "image.shape, type(image), label, type(label)"
   ]
  },
  {
   "cell_type": "markdown",
   "id": "5651c22f",
   "metadata": {},
   "source": [
    "### Visualize data"
   ]
  },
  {
   "cell_type": "code",
   "execution_count": null,
   "id": "f2b7366b",
   "metadata": {},
   "outputs": [
    {
     "data": {
      "image/png": "[encoded data removed]",
      "text/plain": [
       "<Figure size 600x600 with 16 Axes>"
      ]
     },
     "metadata": {},
     "output_type": "display_data"
    }
   ],
   "source": [
    "torch.manual_seed(RANDOM_SEED)\n",
    "fig = plt.figure(figsize=(6,6))\n",
    "rows, cols = 4 , 4\n",
    "for i in range (rows * cols):\n",
    "    idx = torch.randint(low=0, high=len(train_data)-1, size=(1,)).item()\n",
    "    image, label = train_data[idx]\n",
    "    fig.add_subplot(rows, cols, i+1)\n",
    "    plt.imshow(image.squeeze(), cmap='gray')\n",
    "    plt.title(train_data.classes[label])\n",
    "    plt.axis(False)"
   ]
  },
  {
   "cell_type": "markdown",
   "id": "364937d6",
   "metadata": {},
   "source": [
    "## Prepare DataLoader"
   ]
  },
  {
   "cell_type": "code",
   "execution_count": null,
   "id": "d9f7d2c8",
   "metadata": {},
   "outputs": [],
   "source": [
    "from torch.utils.data import DataLoader"
   ]
  },
  {
   "cell_type": "code",
   "execution_count": null,
   "id": "7fa39136",
   "metadata": {},
   "outputs": [],
   "source": [
    "train_dataloader = DataLoader(\n",
    "    dataset=train_data,\n",
    "    batch_size=32,\n",
    "    shuffle=True\n",
    ")\n",
    "\n",
    "test_dataloader = DataLoader(\n",
    "    dataset=test_data,\n",
    "    batch_size=32,\n",
    "    shuffle=False\n",
    ")"
   ]
  },
  {
   "cell_type": "code",
   "execution_count": null,
   "id": "351614fd",
   "metadata": {},
   "outputs": [
    {
     "name": "stdout",
     "output_type": "stream",
     "text": [
      "Dataloaders: (<torch.utils.data.dataloader.DataLoader object at 0x000001D3ADFA2D80>, <torch.utils.data.dataloader.DataLoader object at 0x000001D3ADBBF3E0>)\n",
      "len of test and train data loader: (1875, 313)\n"
     ]
    }
   ],
   "source": [
    "print(f\"Dataloaders: {train_dataloader, test_dataloader}\")\n",
    "print(f\"len of test and train data loader: {len(train_dataloader), len(test_dataloader)}\")"
   ]
  },
  {
   "cell_type": "code",
   "execution_count": null,
   "id": "34680462",
   "metadata": {},
   "outputs": [
    {
     "data": {
      "text/plain": [
       "(torch.Size([32, 1, 28, 28]), torch.Size([32]))"
      ]
     },
     "execution_count": 13,
     "metadata": {},
     "output_type": "execute_result"
    }
   ],
   "source": [
    "idx, (sample_train_batch, sample_train_label_batch) = next(enumerate(train_dataloader))\n",
    "sample_train_batch.shape, sample_train_label_batch.shape"
   ]
  },
  {
   "cell_type": "markdown",
   "id": "2b49b47a",
   "metadata": {},
   "source": [
    "## Create a baseline model"
   ]
  },
  {
   "cell_type": "code",
   "execution_count": null,
   "id": "b14cc670",
   "metadata": {},
   "outputs": [],
   "source": [
    "from torch import nn\n",
    "from helper_functions import accuracy_fn, plot_loss_curves\n",
    "import timer\n",
    "from tqdm.auto import tqdm\n",
    "NUM_CLASSES = len(train_data.classes)\n",
    "HIDDEN_UNITS = 10\n",
    "device = 'cuda' if torch.cuda.is_available() else 'cpu'"
   ]
  },
  {
   "cell_type": "code",
   "execution_count": null,
   "id": "3c456700",
   "metadata": {},
   "outputs": [],
   "source": [
    "model_0 = nn.Sequential(\n",
    "    nn.Flatten(),\n",
    "    nn.Linear(in_features=28*28, out_features=HIDDEN_UNITS),\n",
    "    nn.Linear(in_features=HIDDEN_UNITS, out_features=NUM_CLASSES)\n",
    ").to(device)\n",
    "\n",
    "loss_fn = nn.CrossEntropyLoss().to(device)\n",
    "optimizer = torch.optim.SGD(\n",
    "    params=model_0.parameters(),\n",
    "    lr=0.1,\n",
    ")\n",
    "\n",
    "model_0_trainer = PytorchModelTranier(\n",
    "    name=\"v0-baseline-model\",\n",
    "    model=model_0,\n",
    "    loss_fn=loss_fn,\n",
    "    optimizer=optimizer,\n",
    "    test_dataloader=test_dataloader,\n",
    "    train_dataloader=train_dataloader,\n",
    "    logits_to_pred=lambda logits: torch.softmax(logits, dim=1).argmax(dim=1)\n",
    ")"
   ]
  },
  {
   "cell_type": "code",
   "execution_count": null,
   "id": "9802b28a",
   "metadata": {},
   "outputs": [
    {
     "ename": "AttributeError",
     "evalue": "'ModelStatistics' object has no attribute 'encode'",
     "output_type": "error",
     "traceback": [
      "\u001b[31m---------------------------------------------------------------------------\u001b[39m",
      "\u001b[31mAttributeError\u001b[39m                            Traceback (most recent call last)",
      "\u001b[36mCell\u001b[39m\u001b[36m \u001b[39m\u001b[32mIn[17]\u001b[39m\u001b[32m, line 1\u001b[39m\n\u001b[32m----> \u001b[39m\u001b[32m1\u001b[39m \u001b[43mmodel_0_trainer\u001b[49m\u001b[43m.\u001b[49m\u001b[43mtrain\u001b[49m\u001b[43m(\u001b[49m\u001b[32;43m3\u001b[39;49m\u001b[43m)\u001b[49m\n\u001b[32m      2\u001b[39m model_0_trainer.plot_losses()\n",
      "\u001b[36mFile \u001b[39m\u001b[32md:\\accounts\\learning\\ai\\pytorch\\udemy-zth\\pytorch-deep-learning\\helper_functions.py:362\u001b[39m, in \u001b[36mPytorchModelTranier.train\u001b[39m\u001b[34m(self, epochs)\u001b[39m\n\u001b[32m    360\u001b[39m device = \u001b[38;5;28mself\u001b[39m._device\n\u001b[32m    361\u001b[39m print_every_n_epochs = \u001b[38;5;28mmax\u001b[39m(ceil(epochs / \u001b[32m10\u001b[39m), \u001b[32m1\u001b[39m)\n\u001b[32m--> \u001b[39m\u001b[32m362\u001b[39m \u001b[38;5;28;43mself\u001b[39;49m\u001b[43m.\u001b[49m\u001b[43m__initialize_experiment_tracking\u001b[49m\u001b[43m(\u001b[49m\u001b[43m)\u001b[49m\n\u001b[32m    363\u001b[39m \u001b[38;5;28;01mfor\u001b[39;00m epoch \u001b[38;5;129;01min\u001b[39;00m tqdm(\u001b[38;5;28mrange\u001b[39m(epochs)):\n\u001b[32m    364\u001b[39m     \u001b[38;5;28mself\u001b[39m._model.train()\n",
      "\u001b[36mFile \u001b[39m\u001b[32md:\\accounts\\learning\\ai\\pytorch\\udemy-zth\\pytorch-deep-learning\\helper_functions.py:445\u001b[39m, in \u001b[36mPytorchModelTranier.__initialize_experiment_tracking\u001b[39m\u001b[34m(self, settings)\u001b[39m\n\u001b[32m    441\u001b[39m writer = settings.get(\u001b[33m\"\u001b[39m\u001b[33mwriter\u001b[39m\u001b[33m\"\u001b[39m) \u001b[38;5;129;01mor\u001b[39;00m SummaryWriter(\n\u001b[32m    442\u001b[39m     log_dir=os.path.join(root_path, project_name, \u001b[38;5;28mself\u001b[39m._name),\n\u001b[32m    443\u001b[39m )\n\u001b[32m    444\u001b[39m writer.add_text(\u001b[33m\"\u001b[39m\u001b[33mModel Name\u001b[39m\u001b[33m\"\u001b[39m, \u001b[38;5;28mself\u001b[39m._name, \u001b[32m0\u001b[39m)\n\u001b[32m--> \u001b[39m\u001b[32m445\u001b[39m \u001b[43mwriter\u001b[49m\u001b[43m.\u001b[49m\u001b[43madd_text\u001b[49m\u001b[43m(\u001b[49m\n\u001b[32m    446\u001b[39m \u001b[43m    \u001b[49m\u001b[33;43m\"\u001b[39;49m\u001b[33;43mModel Summary\u001b[39;49m\u001b[33;43m\"\u001b[39;49m\u001b[43m,\u001b[49m\n\u001b[32m    447\u001b[39m \u001b[43m    \u001b[49m\u001b[43msummary\u001b[49m\u001b[43m(\u001b[49m\n\u001b[32m    448\u001b[39m \u001b[43m        \u001b[49m\u001b[43mmodel\u001b[49m\u001b[43m=\u001b[49m\u001b[38;5;28;43mself\u001b[39;49m\u001b[43m.\u001b[49m\u001b[43m_model\u001b[49m\u001b[43m,\u001b[49m\u001b[43m \u001b[49m\u001b[43mbatch_dim\u001b[49m\u001b[43m=\u001b[49m\u001b[38;5;28;43mself\u001b[39;49m\u001b[43m.\u001b[49m\u001b[43mtrain_dataloader\u001b[49m\u001b[43m.\u001b[49m\u001b[43mdataset\u001b[49m\u001b[43m[\u001b[49m\u001b[32;43m0\u001b[39;49m\u001b[43m]\u001b[49m\u001b[43m[\u001b[49m\u001b[32;43m0\u001b[39;49m\u001b[43m]\u001b[49m\u001b[43m.\u001b[49m\u001b[43mshape\u001b[49m\n\u001b[32m    449\u001b[39m \u001b[43m    \u001b[49m\u001b[43m)\u001b[49m\u001b[43m,\u001b[49m\n\u001b[32m    450\u001b[39m \u001b[43m    \u001b[49m\u001b[32;43m0\u001b[39;49m\u001b[43m,\u001b[49m\n\u001b[32m    451\u001b[39m \u001b[43m\u001b[49m\u001b[43m)\u001b[49m\n\u001b[32m    452\u001b[39m writer.add_graph(\n\u001b[32m    453\u001b[39m     model=\u001b[38;5;28mself\u001b[39m._model, input_to_model=\u001b[38;5;28mself\u001b[39m.train_dataloader.dataset[\u001b[32m0\u001b[39m][\u001b[32m0\u001b[39m]\n\u001b[32m    454\u001b[39m )\n\u001b[32m    455\u001b[39m \u001b[38;5;28mself\u001b[39m.writer = writer\n",
      "\u001b[36mFile \u001b[39m\u001b[32md:\\accounts\\learning\\ai\\pytorch\\udemy-zth\\pytorch-deep-learning\\venv\\Lib\\site-packages\\torch\\utils\\tensorboard\\writer.py:817\u001b[39m, in \u001b[36mSummaryWriter.add_text\u001b[39m\u001b[34m(self, tag, text_string, global_step, walltime)\u001b[39m\n\u001b[32m    802\u001b[39m \u001b[38;5;250m\u001b[39m\u001b[33;03m\"\"\"Add text data to summary.\u001b[39;00m\n\u001b[32m    803\u001b[39m \n\u001b[32m    804\u001b[39m \u001b[33;03mArgs:\u001b[39;00m\n\u001b[32m   (...)\u001b[39m\u001b[32m    813\u001b[39m \u001b[33;03m    writer.add_text('rnn', 'This is an rnn', 10)\u001b[39;00m\n\u001b[32m    814\u001b[39m \u001b[33;03m\"\"\"\u001b[39;00m\n\u001b[32m    815\u001b[39m torch._C._log_api_usage_once(\u001b[33m\"\u001b[39m\u001b[33mtensorboard.logging.add_text\u001b[39m\u001b[33m\"\u001b[39m)\n\u001b[32m    816\u001b[39m \u001b[38;5;28mself\u001b[39m._get_file_writer().add_summary(\n\u001b[32m--> \u001b[39m\u001b[32m817\u001b[39m     \u001b[43mtext\u001b[49m\u001b[43m(\u001b[49m\u001b[43mtag\u001b[49m\u001b[43m,\u001b[49m\u001b[43m \u001b[49m\u001b[43mtext_string\u001b[49m\u001b[43m)\u001b[49m, global_step, walltime\n\u001b[32m    818\u001b[39m )\n",
      "\u001b[36mFile \u001b[39m\u001b[32md:\\accounts\\learning\\ai\\pytorch\\udemy-zth\\pytorch-deep-learning\\venv\\Lib\\site-packages\\torch\\utils\\tensorboard\\summary.py:769\u001b[39m, in \u001b[36mtext\u001b[39m\u001b[34m(tag, text)\u001b[39m\n\u001b[32m    763\u001b[39m plugin_data = SummaryMetadata.PluginData(\n\u001b[32m    764\u001b[39m     plugin_name=\u001b[33m\"\u001b[39m\u001b[33mtext\u001b[39m\u001b[33m\"\u001b[39m, content=TextPluginData(version=\u001b[32m0\u001b[39m).SerializeToString()\n\u001b[32m    765\u001b[39m )\n\u001b[32m    766\u001b[39m smd = SummaryMetadata(plugin_data=plugin_data)\n\u001b[32m    767\u001b[39m tensor = TensorProto(\n\u001b[32m    768\u001b[39m     dtype=\u001b[33m\"\u001b[39m\u001b[33mDT_STRING\u001b[39m\u001b[33m\"\u001b[39m,\n\u001b[32m--> \u001b[39m\u001b[32m769\u001b[39m     string_val=[\u001b[43mtext\u001b[49m\u001b[43m.\u001b[49m\u001b[43mencode\u001b[49m(encoding=\u001b[33m\"\u001b[39m\u001b[33mutf_8\u001b[39m\u001b[33m\"\u001b[39m)],\n\u001b[32m    770\u001b[39m     tensor_shape=TensorShapeProto(dim=[TensorShapeProto.Dim(size=\u001b[32m1\u001b[39m)]),\n\u001b[32m    771\u001b[39m )\n\u001b[32m    772\u001b[39m \u001b[38;5;28;01mreturn\u001b[39;00m Summary(\n\u001b[32m    773\u001b[39m     value=[Summary.Value(tag=tag + \u001b[33m\"\u001b[39m\u001b[33m/text_summary\u001b[39m\u001b[33m\"\u001b[39m, metadata=smd, tensor=tensor)]\n\u001b[32m    774\u001b[39m )\n",
      "\u001b[31mAttributeError\u001b[39m: 'ModelStatistics' object has no attribute 'encode'"
     ]
    }
   ],
   "source": [
    "model_0_trainer.train(3)\n",
    "model_0_trainer.plot_losses()"
   ]
  },
  {
   "cell_type": "code",
   "execution_count": null,
   "id": "2ee1c47d",
   "metadata": {},
   "outputs": [],
   "source": [
    "model_0_eval = model_0_trainer.eval()\n",
    "model_0_eval"
   ]
  },
  {
   "cell_type": "code",
   "execution_count": null,
   "id": "2b3aa430",
   "metadata": {},
   "outputs": [],
   "source": [
    "model_1 = nn.Sequential(\n",
    "    nn.Flatten(),\n",
    "    nn.Linear(in_features=28*28, out_features=32),\n",
    "    nn.ReLU(),\n",
    "    nn.Linear(in_features=32, out_features=64),\n",
    "    nn.ReLU(),\n",
    "    nn.Linear(in_features=64, out_features=32),\n",
    "    nn.ReLU(),\n",
    "    nn.Linear(in_features=32, out_features=10)\n",
    ").to(device)\n",
    "\n",
    "model_1_trainer = PytorchModelTranier(\n",
    "    name=\"v1-with-non-linear-layers-model\",\n",
    "    model=model_1,\n",
    "    loss_fn=nn.CrossEntropyLoss().to(device),\n",
    "    optimizer=torch.optim.SGD(\n",
    "        params=model_1.parameters(),\n",
    "        lr=0.1,\n",
    "    ),\n",
    "    test_dataloader=test_dataloader,\n",
    "    train_dataloader=train_dataloader,\n",
    "    logits_to_pred=lambda logits: torch.softmax(logits, dim=1).argmax(dim=1)\n",
    ")\n",
    "\n",
    "model_1_trainer.train(10)\n",
    "\n",
    "model_1_eval = model_1_trainer.eval()\n",
    "print(model_1_eval)\n",
    "\n",
    "model_1_trainer.plot_losses()"
   ]
  },
  {
   "cell_type": "markdown",
   "id": "d5220264",
   "metadata": {},
   "source": [
    "## Create CNN Model"
   ]
  },
  {
   "cell_type": "code",
   "execution_count": null,
   "id": "8e6a71ca",
   "metadata": {},
   "outputs": [],
   "source": [
    "class FashionMNISTV2(nn.Module):\n",
    "    def __init__(self, input_channels, hidden_channels, output_shape):\n",
    "        super().__init__()\n",
    "        self.conv_l1 = nn.Sequential(\n",
    "            nn.Conv2d(\n",
    "                in_channels=input_channels,\n",
    "                out_channels=hidden_channels,\n",
    "                kernel_size=3,\n",
    "                stride=1,\n",
    "                padding=1\n",
    "            ),\n",
    "            nn.ReLU(),\n",
    "            nn.Conv2d(\n",
    "                in_channels=hidden_channels,\n",
    "                out_channels=hidden_channels,\n",
    "                kernel_size=3,\n",
    "                stride=1,\n",
    "                padding=1\n",
    "            ),\n",
    "            nn.ReLU(),\n",
    "            nn.MaxPool2d(kernel_size=2),\n",
    "        )\n",
    "\n",
    "        self.conv_l2 = nn.Sequential(\n",
    "            nn.Conv2d(\n",
    "                in_channels=hidden_channels,\n",
    "                out_channels=hidden_channels,\n",
    "                kernel_size=3,\n",
    "                stride=1,\n",
    "                padding=1\n",
    "            ),\n",
    "            nn.ReLU(),\n",
    "            nn.Conv2d(\n",
    "                in_channels=hidden_channels,\n",
    "                out_channels=hidden_channels,\n",
    "                kernel_size=3,\n",
    "                stride=1,\n",
    "                padding=1\n",
    "            ),\n",
    "            nn.ReLU(),\n",
    "            nn.MaxPool2d(kernel_size=2),\n",
    "        )\n",
    "        \n",
    "        self.classifier = nn.Sequential(\n",
    "            nn.Flatten(),\n",
    "            nn.LazyLinear(\n",
    "                # in_features=0,\n",
    "                out_features=output_shape,\n",
    "            )\n",
    "        )\n",
    "\n",
    "    def forward(self, x):\n",
    "        # print(\"original data shape\", x.shape)\n",
    "        x = self.conv_l1(x)\n",
    "        # print(\"shape after conv l1\", x.shape)\n",
    "        x = self.conv_l2(x)\n",
    "        # print(\"shape after conv l2\", x.shape)\n",
    "        x = self.classifier(x)\n",
    "        # print(\"shape after classifier\", x.shape)\n",
    "        return x"
   ]
  },
  {
   "cell_type": "code",
   "execution_count": null,
   "id": "f6461e42",
   "metadata": {},
   "outputs": [],
   "source": [
    "model_2 = FashionMNISTV2(\n",
    "    hidden_channels=10,\n",
    "    input_channels=1,\n",
    "    output_shape=len(train_data.classes)\n",
    ").to(device)\n",
    "\n",
    "model_2_trainer = PytorchModelTranier(\n",
    "    name=\"v2-with-conv-layers-model\",\n",
    "    model=model_2,\n",
    "    loss_fn=nn.CrossEntropyLoss().to(device),\n",
    "    optimizer=torch.optim.SGD(\n",
    "        params=model_2.parameters(),\n",
    "        lr=0.1,\n",
    "    ),\n",
    "    test_dataloader=test_dataloader,\n",
    "    train_dataloader=train_dataloader,\n",
    "    logits_to_pred=lambda logits: torch.softmax(logits, dim=1).argmax(dim=1)\n",
    ")\n",
    "\n",
    "# model_2.eval()\n",
    "# with torch.inference_mode():\n",
    "#     y_logits = model_2(next(iter(test_dataloader))[0])\n",
    "# y_logits"
   ]
  },
  {
   "cell_type": "code",
   "execution_count": null,
   "id": "49933095",
   "metadata": {},
   "outputs": [],
   "source": [
    "model_2_trainer.train(10)\n",
    "\n",
    "model_2_eval = model_2_trainer.eval()\n",
    "print(model_2_eval)\n",
    "\n",
    "model_2_trainer.plot_losses()"
   ]
  },
  {
   "cell_type": "code",
   "execution_count": null,
   "id": "c3346e46",
   "metadata": {},
   "outputs": [],
   "source": []
  }
 ],
 "metadata": {
  "kernelspec": {
   "display_name": "venv",
   "language": "python",
   "name": "python3"
  },
  "language_info": {
   "codemirror_mode": {
    "name": "ipython",
    "version": 3
   },
   "file_extension": ".py",
   "mimetype": "text/x-python",
   "name": "python",
   "nbconvert_exporter": "python",
   "pygments_lexer": "ipython3",
   "version": "3.12.10"
  }
 },
 "nbformat": 4,
 "nbformat_minor": 5
}
