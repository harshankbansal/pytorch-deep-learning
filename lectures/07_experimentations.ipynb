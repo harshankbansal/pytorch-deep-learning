{
  "cells": [
    {
      "cell_type": "markdown",
      "metadata": {
        "id": "view-in-github",
        "colab_type": "text"
      },
      "source": [
        "<a href=\"https://colab.research.google.com/github/harshankbansal/pytorch-deep-learning/blob/main/lectures/07_experimentations.ipynb\" target=\"_parent\"><img src=\"https://colab.research.google.com/assets/colab-badge.svg\" alt=\"Open In Colab\"/></a>"
      ]
    },
    {
      "cell_type": "markdown",
      "id": "ffb5d349",
      "metadata": {
        "id": "ffb5d349"
      },
      "source": [
        "# Tracking Experiments\n",
        "\n",
        "With ML projects, we usually train 20+ models, and which introduces a different set of problems. Tracking of these experiments is important and there are various tools just for this\n",
        "\n",
        "1. In built pytorch's board\n",
        "2. 3rd party tools like weights and bias https://wandb.ai/site/\n",
        "3. mlflow - another 3rd party\n",
        "\n",
        "there are many more solutsion"
      ]
    },
    {
      "cell_type": "code",
      "execution_count": 2,
      "id": "36ba5acc",
      "metadata": {
        "id": "36ba5acc",
        "outputId": "97157997-e8a3-4b90-8528-cfd7f8a3dfbf",
        "colab": {
          "base_uri": "https://localhost:8080/"
        }
      },
      "outputs": [
        {
          "output_type": "stream",
          "name": "stdout",
          "text": [
            "[INFO] Couldn't find going_modular scripts... downloading them from GitHub.\n",
            "Cloning into 'pytorch-deep-learning'...\n",
            "remote: Enumerating objects: 4368, done.\u001b[K\n",
            "remote: Counting objects: 100% (25/25), done.\u001b[K\n",
            "remote: Compressing objects: 100% (10/10), done.\u001b[K\n",
            "remote: Total 4368 (delta 17), reused 15 (delta 15), pack-reused 4343 (from 2)\u001b[K\n",
            "Receiving objects: 100% (4368/4368), 762.51 MiB | 35.56 MiB/s, done.\n",
            "Resolving deltas: 100% (2646/2646), done.\n",
            "Updating files: 100% (257/257), done.\n",
            "Collecting torchinfo\n",
            "  Downloading torchinfo-1.8.0-py3-none-any.whl.metadata (21 kB)\n",
            "Downloading torchinfo-1.8.0-py3-none-any.whl (23 kB)\n",
            "Installing collected packages: torchinfo\n",
            "Successfully installed torchinfo-1.8.0\n"
          ]
        }
      ],
      "source": [
        "# Set up imports. Thanks to python it is unnecessarily complicated\n",
        "try:\n",
        "    import google.colab\n",
        "    IN_COLAB = True\n",
        "except ImportError:\n",
        "    IN_COLAB = False\n",
        "\n",
        "if not IN_COLAB:\n",
        "    try:\n",
        "        from going_modular.going_modular import data_setup, engine\n",
        "    except ImportError:\n",
        "        import os\n",
        "        import sys\n",
        "        from pathlib import Path\n",
        "        sys.path.append(str(Path(os.path.abspath('')).parent))\n",
        "        from going_modular.going_modular import data_setup\n",
        "else:\n",
        "    try:\n",
        "        from going_modular.going_modular import data_setup, engine\n",
        "    except:\n",
        "        # Get the going_modular scripts\n",
        "        print(\"[INFO] Couldn't find going_modular scripts... downloading them from GitHub.\")\n",
        "        !git clone https://github.com/harshankbansal/pytorch-deep-learning\n",
        "        !mv pytorch-deep-learning/going_modular .\n",
        "        !mv pytorch-deep-learning/helper_functions.py .\n",
        "        !mv pytorch-deep-learning/data .\n",
        "        !rm -rf pytorch-deep-learning\n",
        "        from going_modular.going_modular import data_setup, engine\n",
        "    try:\n",
        "      from torchinfo import summary\n",
        "    except ImportError:\n",
        "      !pip install torchinfo\n",
        "      from torchinfo import summary"
      ]
    },
    {
      "cell_type": "code",
      "source": [
        "import torchvision\n",
        "import torch\n",
        "import matplotlib.pyplot as plt\n",
        "from torchinfo import summary\n",
        "from helper_functions import download_data\n",
        "from torchvision import models"
      ],
      "metadata": {
        "id": "2iJCI_nFe4Ip"
      },
      "id": "2iJCI_nFe4Ip",
      "execution_count": 7,
      "outputs": []
    },
    {
      "cell_type": "markdown",
      "source": [
        "## Getting model and image transformers"
      ],
      "metadata": {
        "id": "sF8ql7qEgnjw"
      },
      "id": "sF8ql7qEgnjw"
    },
    {
      "cell_type": "code",
      "source": [
        "#Download Data\n",
        "image_dir = download_data(source=\"https://github.com/mrdbourke/pytorch-deep-learning/raw/main/data/pizza_steak_sushi.zip\",\n",
        "                         destination=\"pizza_steak_sushi\")\n",
        "test_images_dir = image_dir/\"test\"\n",
        "train_images_dir = image_dir/\"train\""
      ],
      "metadata": {
        "colab": {
          "base_uri": "https://localhost:8080/"
        },
        "id": "AhANQPOafoxD",
        "outputId": "0f6abc55-10ac-4ebd-9a4e-fb68467681d0"
      },
      "id": "AhANQPOafoxD",
      "execution_count": 11,
      "outputs": [
        {
          "output_type": "stream",
          "name": "stdout",
          "text": [
            "[INFO] Did not find data/pizza_steak_sushi directory, creating one...\n",
            "[INFO] Downloading pizza_steak_sushi.zip from https://github.com/mrdbourke/pytorch-deep-learning/raw/main/data/pizza_steak_sushi.zip...\n",
            "[INFO] Unzipping pizza_steak_sushi.zip data...\n"
          ]
        }
      ]
    },
    {
      "cell_type": "code",
      "source": [
        "weights = models.EfficientNet_B0_Weights.DEFAULT\n",
        "image_transformers = weights.transforms()\n",
        "\n",
        "train_dataloader, test_dataloader, class_names = data_setup.create_dataloaders(\n",
        "    train_dir=train_images_dir,\n",
        "    test_dir=test_images_dir,\n",
        "    transform=image_transformers,\n",
        "    batch_size=32\n",
        ")\n",
        "\n",
        "len(train_dataloader), len(test_dataloader), class_names, image_transformers"
      ],
      "metadata": {
        "colab": {
          "base_uri": "https://localhost:8080/"
        },
        "id": "d8DDsjjRgnV3",
        "outputId": "c04f3209-4269-4301-d400-924c5b81a81b"
      },
      "id": "d8DDsjjRgnV3",
      "execution_count": 16,
      "outputs": [
        {
          "output_type": "execute_result",
          "data": {
            "text/plain": [
              "(8,\n",
              " 3,\n",
              " ['pizza', 'steak', 'sushi'],\n",
              " ImageClassification(\n",
              "     crop_size=[224]\n",
              "     resize_size=[256]\n",
              "     mean=[0.485, 0.456, 0.406]\n",
              "     std=[0.229, 0.224, 0.225]\n",
              "     interpolation=InterpolationMode.BICUBIC\n",
              " ))"
            ]
          },
          "metadata": {},
          "execution_count": 16
        }
      ]
    },
    {
      "cell_type": "markdown",
      "source": [
        "## 2 Setting up pre trained model ready for training"
      ],
      "metadata": {
        "id": "rlcvyKjJi1Lm"
      },
      "id": "rlcvyKjJi1Lm"
    },
    {
      "cell_type": "code",
      "source": [
        "model = models.efficientnet_b0(weights=weights)"
      ],
      "metadata": {
        "id": "uShHIzWDibfv"
      },
      "id": "uShHIzWDibfv",
      "execution_count": 17,
      "outputs": []
    },
    {
      "cell_type": "code",
      "source": [
        "def print_model(model: torch.nn.Module = model):\n",
        "    print(summary(\n",
        "        model=model,\n",
        "        input_size=(1, 3, 224, 224),\n",
        "        col_names=[\"input_size\", \"output_size\", \"num_params\", \"trainable\"],\n",
        "        col_width=20,\n",
        "        row_settings=[\"var_names\"]\n",
        "  )\n",
        ")"
      ],
      "metadata": {
        "id": "-zCPhrBzgnK5"
      },
      "id": "-zCPhrBzgnK5",
      "execution_count": 25,
      "outputs": []
    },
    {
      "cell_type": "code",
      "source": [
        "print_model(model)"
      ],
      "metadata": {
        "colab": {
          "base_uri": "https://localhost:8080/"
        },
        "id": "cQ35crFRhRyw",
        "outputId": "62e7ef2b-cbd5-4291-a57c-fafcf6de8330"
      },
      "id": "cQ35crFRhRyw",
      "execution_count": 18,
      "outputs": [
        {
          "output_type": "stream",
          "name": "stdout",
          "text": [
            "============================================================================================================================================\n",
            "Layer (type (var_name))                                      Input Shape          Output Shape         Param #              Trainable\n",
            "============================================================================================================================================\n",
            "EfficientNet (EfficientNet)                                  [1, 3, 224, 224]     [1, 1000]            --                   True\n",
            "├─Sequential (features)                                      [1, 3, 224, 224]     [1, 1280, 7, 7]      --                   True\n",
            "│    └─Conv2dNormActivation (0)                              [1, 3, 224, 224]     [1, 32, 112, 112]    --                   True\n",
            "│    │    └─Conv2d (0)                                       [1, 3, 224, 224]     [1, 32, 112, 112]    864                  True\n",
            "│    │    └─BatchNorm2d (1)                                  [1, 32, 112, 112]    [1, 32, 112, 112]    64                   True\n",
            "│    │    └─SiLU (2)                                         [1, 32, 112, 112]    [1, 32, 112, 112]    --                   --\n",
            "│    └─Sequential (1)                                        [1, 32, 112, 112]    [1, 16, 112, 112]    --                   True\n",
            "│    │    └─MBConv (0)                                       [1, 32, 112, 112]    [1, 16, 112, 112]    1,448                True\n",
            "│    └─Sequential (2)                                        [1, 16, 112, 112]    [1, 24, 56, 56]      --                   True\n",
            "│    │    └─MBConv (0)                                       [1, 16, 112, 112]    [1, 24, 56, 56]      6,004                True\n",
            "│    │    └─MBConv (1)                                       [1, 24, 56, 56]      [1, 24, 56, 56]      10,710               True\n",
            "│    └─Sequential (3)                                        [1, 24, 56, 56]      [1, 40, 28, 28]      --                   True\n",
            "│    │    └─MBConv (0)                                       [1, 24, 56, 56]      [1, 40, 28, 28]      15,350               True\n",
            "│    │    └─MBConv (1)                                       [1, 40, 28, 28]      [1, 40, 28, 28]      31,290               True\n",
            "│    └─Sequential (4)                                        [1, 40, 28, 28]      [1, 80, 14, 14]      --                   True\n",
            "│    │    └─MBConv (0)                                       [1, 40, 28, 28]      [1, 80, 14, 14]      37,130               True\n",
            "│    │    └─MBConv (1)                                       [1, 80, 14, 14]      [1, 80, 14, 14]      102,900              True\n",
            "│    │    └─MBConv (2)                                       [1, 80, 14, 14]      [1, 80, 14, 14]      102,900              True\n",
            "│    └─Sequential (5)                                        [1, 80, 14, 14]      [1, 112, 14, 14]     --                   True\n",
            "│    │    └─MBConv (0)                                       [1, 80, 14, 14]      [1, 112, 14, 14]     126,004              True\n",
            "│    │    └─MBConv (1)                                       [1, 112, 14, 14]     [1, 112, 14, 14]     208,572              True\n",
            "│    │    └─MBConv (2)                                       [1, 112, 14, 14]     [1, 112, 14, 14]     208,572              True\n",
            "│    └─Sequential (6)                                        [1, 112, 14, 14]     [1, 192, 7, 7]       --                   True\n",
            "│    │    └─MBConv (0)                                       [1, 112, 14, 14]     [1, 192, 7, 7]       262,492              True\n",
            "│    │    └─MBConv (1)                                       [1, 192, 7, 7]       [1, 192, 7, 7]       587,952              True\n",
            "│    │    └─MBConv (2)                                       [1, 192, 7, 7]       [1, 192, 7, 7]       587,952              True\n",
            "│    │    └─MBConv (3)                                       [1, 192, 7, 7]       [1, 192, 7, 7]       587,952              True\n",
            "│    └─Sequential (7)                                        [1, 192, 7, 7]       [1, 320, 7, 7]       --                   True\n",
            "│    │    └─MBConv (0)                                       [1, 192, 7, 7]       [1, 320, 7, 7]       717,232              True\n",
            "│    └─Conv2dNormActivation (8)                              [1, 320, 7, 7]       [1, 1280, 7, 7]      --                   True\n",
            "│    │    └─Conv2d (0)                                       [1, 320, 7, 7]       [1, 1280, 7, 7]      409,600              True\n",
            "│    │    └─BatchNorm2d (1)                                  [1, 1280, 7, 7]      [1, 1280, 7, 7]      2,560                True\n",
            "│    │    └─SiLU (2)                                         [1, 1280, 7, 7]      [1, 1280, 7, 7]      --                   --\n",
            "├─AdaptiveAvgPool2d (avgpool)                                [1, 1280, 7, 7]      [1, 1280, 1, 1]      --                   --\n",
            "├─Sequential (classifier)                                    [1, 1280]            [1, 1000]            --                   True\n",
            "│    └─Dropout (0)                                           [1, 1280]            [1, 1280]            --                   --\n",
            "│    └─Linear (1)                                            [1, 1280]            [1, 1000]            1,281,000            True\n",
            "============================================================================================================================================\n",
            "Total params: 5,288,548\n",
            "Trainable params: 5,288,548\n",
            "Non-trainable params: 0\n",
            "Total mult-adds (Units.MEGABYTES): 385.87\n",
            "============================================================================================================================================\n",
            "Input size (MB): 0.60\n",
            "Forward/backward pass size (MB): 107.89\n",
            "Params size (MB): 21.15\n",
            "Estimated Total Size (MB): 129.64\n",
            "============================================================================================================================================\n"
          ]
        }
      ]
    },
    {
      "cell_type": "code",
      "source": [
        "for param in model.features.parameters():\n",
        "  param.requires_grad = False\n",
        "\n",
        "model.classifier = torch.nn.Sequential(\n",
        "    torch.nn.Dropout(p=0.2, inplace=True),\n",
        "    torch.nn.Linear(in_features=1280, out_features=3, bias=True)\n",
        ")\n",
        "\n",
        "print_model()"
      ],
      "metadata": {
        "colab": {
          "base_uri": "https://localhost:8080/"
        },
        "id": "A6mZjKpLi4yB",
        "outputId": "9a185933-6bde-47eb-b71c-f4b00a10c983"
      },
      "id": "A6mZjKpLi4yB",
      "execution_count": 27,
      "outputs": [
        {
          "output_type": "stream",
          "name": "stdout",
          "text": [
            "============================================================================================================================================\n",
            "Layer (type (var_name))                                      Input Shape          Output Shape         Param #              Trainable\n",
            "============================================================================================================================================\n",
            "EfficientNet (EfficientNet)                                  [1, 3, 224, 224]     [1, 3]               --                   Partial\n",
            "├─Sequential (features)                                      [1, 3, 224, 224]     [1, 1280, 7, 7]      --                   False\n",
            "│    └─Conv2dNormActivation (0)                              [1, 3, 224, 224]     [1, 32, 112, 112]    --                   False\n",
            "│    │    └─Conv2d (0)                                       [1, 3, 224, 224]     [1, 32, 112, 112]    (864)                False\n",
            "│    │    └─BatchNorm2d (1)                                  [1, 32, 112, 112]    [1, 32, 112, 112]    (64)                 False\n",
            "│    │    └─SiLU (2)                                         [1, 32, 112, 112]    [1, 32, 112, 112]    --                   --\n",
            "│    └─Sequential (1)                                        [1, 32, 112, 112]    [1, 16, 112, 112]    --                   False\n",
            "│    │    └─MBConv (0)                                       [1, 32, 112, 112]    [1, 16, 112, 112]    (1,448)              False\n",
            "│    └─Sequential (2)                                        [1, 16, 112, 112]    [1, 24, 56, 56]      --                   False\n",
            "│    │    └─MBConv (0)                                       [1, 16, 112, 112]    [1, 24, 56, 56]      (6,004)              False\n",
            "│    │    └─MBConv (1)                                       [1, 24, 56, 56]      [1, 24, 56, 56]      (10,710)             False\n",
            "│    └─Sequential (3)                                        [1, 24, 56, 56]      [1, 40, 28, 28]      --                   False\n",
            "│    │    └─MBConv (0)                                       [1, 24, 56, 56]      [1, 40, 28, 28]      (15,350)             False\n",
            "│    │    └─MBConv (1)                                       [1, 40, 28, 28]      [1, 40, 28, 28]      (31,290)             False\n",
            "│    └─Sequential (4)                                        [1, 40, 28, 28]      [1, 80, 14, 14]      --                   False\n",
            "│    │    └─MBConv (0)                                       [1, 40, 28, 28]      [1, 80, 14, 14]      (37,130)             False\n",
            "│    │    └─MBConv (1)                                       [1, 80, 14, 14]      [1, 80, 14, 14]      (102,900)            False\n",
            "│    │    └─MBConv (2)                                       [1, 80, 14, 14]      [1, 80, 14, 14]      (102,900)            False\n",
            "│    └─Sequential (5)                                        [1, 80, 14, 14]      [1, 112, 14, 14]     --                   False\n",
            "│    │    └─MBConv (0)                                       [1, 80, 14, 14]      [1, 112, 14, 14]     (126,004)            False\n",
            "│    │    └─MBConv (1)                                       [1, 112, 14, 14]     [1, 112, 14, 14]     (208,572)            False\n",
            "│    │    └─MBConv (2)                                       [1, 112, 14, 14]     [1, 112, 14, 14]     (208,572)            False\n",
            "│    └─Sequential (6)                                        [1, 112, 14, 14]     [1, 192, 7, 7]       --                   False\n",
            "│    │    └─MBConv (0)                                       [1, 112, 14, 14]     [1, 192, 7, 7]       (262,492)            False\n",
            "│    │    └─MBConv (1)                                       [1, 192, 7, 7]       [1, 192, 7, 7]       (587,952)            False\n",
            "│    │    └─MBConv (2)                                       [1, 192, 7, 7]       [1, 192, 7, 7]       (587,952)            False\n",
            "│    │    └─MBConv (3)                                       [1, 192, 7, 7]       [1, 192, 7, 7]       (587,952)            False\n",
            "│    └─Sequential (7)                                        [1, 192, 7, 7]       [1, 320, 7, 7]       --                   False\n",
            "│    │    └─MBConv (0)                                       [1, 192, 7, 7]       [1, 320, 7, 7]       (717,232)            False\n",
            "│    └─Conv2dNormActivation (8)                              [1, 320, 7, 7]       [1, 1280, 7, 7]      --                   False\n",
            "│    │    └─Conv2d (0)                                       [1, 320, 7, 7]       [1, 1280, 7, 7]      (409,600)            False\n",
            "│    │    └─BatchNorm2d (1)                                  [1, 1280, 7, 7]      [1, 1280, 7, 7]      (2,560)              False\n",
            "│    │    └─SiLU (2)                                         [1, 1280, 7, 7]      [1, 1280, 7, 7]      --                   --\n",
            "├─AdaptiveAvgPool2d (avgpool)                                [1, 1280, 7, 7]      [1, 1280, 1, 1]      --                   --\n",
            "├─Sequential (classifier)                                    [1, 1280]            [1, 3]               --                   True\n",
            "│    └─Dropout (0)                                           [1, 1280]            [1, 1280]            --                   --\n",
            "│    └─Linear (1)                                            [1, 1280]            [1, 3]               3,843                True\n",
            "============================================================================================================================================\n",
            "Total params: 4,011,391\n",
            "Trainable params: 3,843\n",
            "Non-trainable params: 4,007,548\n",
            "Total mult-adds (Units.MEGABYTES): 384.59\n",
            "============================================================================================================================================\n",
            "Input size (MB): 0.60\n",
            "Forward/backward pass size (MB): 107.88\n",
            "Params size (MB): 16.05\n",
            "Estimated Total Size (MB): 124.53\n",
            "============================================================================================================================================\n"
          ]
        }
      ]
    },
    {
      "cell_type": "code",
      "source": [],
      "metadata": {
        "id": "NCmAcgfvj2-a"
      },
      "id": "NCmAcgfvj2-a",
      "execution_count": null,
      "outputs": []
    }
  ],
  "metadata": {
    "kernelspec": {
      "display_name": "venv",
      "language": "python",
      "name": "python3"
    },
    "language_info": {
      "codemirror_mode": {
        "name": "ipython",
        "version": 3
      },
      "file_extension": ".py",
      "mimetype": "text/x-python",
      "name": "python",
      "nbconvert_exporter": "python",
      "pygments_lexer": "ipython3",
      "version": "3.12.10"
    },
    "colab": {
      "provenance": [],
      "include_colab_link": true
    }
  },
  "nbformat": 4,
  "nbformat_minor": 5
}