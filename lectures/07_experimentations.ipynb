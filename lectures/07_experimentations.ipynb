{
  "cells": [
    {
      "cell_type": "markdown",
      "metadata": {
        "id": "view-in-github",
        "colab_type": "text"
      },
      "source": [
        "<a href=\"https://colab.research.google.com/github/harshankbansal/pytorch-deep-learning/blob/main/lectures/07_experimentations.ipynb\" target=\"_parent\"><img src=\"https://colab.research.google.com/assets/colab-badge.svg\" alt=\"Open In Colab\"/></a>"
      ]
    },
    {
      "cell_type": "markdown",
      "id": "ffb5d349",
      "metadata": {
        "id": "ffb5d349"
      },
      "source": [
        "# Tracking Experiments\n",
        "\n",
        "With ML projects, we usually train 20+ models, and which introduces a different set of problems. Tracking of these experiments is important and there are various tools just for this\n",
        "\n",
        "1. In built pytorch's board\n",
        "2. 3rd party tools like weights and bias https://wandb.ai/site/\n",
        "3. mlflow - another 3rd party\n",
        "\n",
        "there are many more solutsion"
      ]
    },
    {
      "cell_type": "code",
      "execution_count": 1,
      "id": "36ba5acc",
      "metadata": {
        "id": "36ba5acc",
        "outputId": "0f3499c9-010f-4f46-ee1f-41444a6834e2",
        "colab": {
          "base_uri": "https://localhost:8080/"
        }
      },
      "outputs": [
        {
          "output_type": "stream",
          "name": "stdout",
          "text": [
            "[INFO] Couldn't find going_modular scripts... downloading them from GitHub.\n",
            "Cloning into 'pytorch-deep-learning'...\n",
            "remote: Enumerating objects: 4390, done.\u001b[K\n",
            "remote: Counting objects: 100% (47/47), done.\u001b[K\n",
            "remote: Compressing objects: 100% (27/27), done.\u001b[K\n",
            "remote: Total 4390 (delta 31), reused 25 (delta 20), pack-reused 4343 (from 2)\u001b[K\n",
            "Receiving objects: 100% (4390/4390), 762.56 MiB | 38.98 MiB/s, done.\n",
            "Resolving deltas: 100% (2660/2660), done.\n",
            "Updating files: 100% (257/257), done.\n",
            "Collecting torchinfo\n",
            "  Downloading torchinfo-1.8.0-py3-none-any.whl.metadata (21 kB)\n",
            "Downloading torchinfo-1.8.0-py3-none-any.whl (23 kB)\n",
            "Installing collected packages: torchinfo\n",
            "Successfully installed torchinfo-1.8.0\n"
          ]
        }
      ],
      "source": [
        "# Set up imports. Thanks to python it is unnecessarily complicated\n",
        "try:\n",
        "    import google.colab\n",
        "    IN_COLAB = True\n",
        "except ImportError:\n",
        "    IN_COLAB = False\n",
        "\n",
        "if not IN_COLAB:\n",
        "    try:\n",
        "        from going_modular.going_modular import data_setup, engine\n",
        "    except ImportError:\n",
        "        import os\n",
        "        import sys\n",
        "        from pathlib import Path\n",
        "        sys.path.append(str(Path(os.path.abspath('')).parent))\n",
        "        from going_modular.going_modular import data_setup\n",
        "else:\n",
        "    try:\n",
        "        from going_modular.going_modular import data_setup, engine\n",
        "    except:\n",
        "        # Get the going_modular scripts\n",
        "        print(\"[INFO] Couldn't find going_modular scripts... downloading them from GitHub.\")\n",
        "        !git clone https://github.com/harshankbansal/pytorch-deep-learning\n",
        "        !mv pytorch-deep-learning/going_modular .\n",
        "        !mv pytorch-deep-learning/helper_functions.py .\n",
        "        # !mv pytorch-deep-learning/data .\n",
        "        !rm -rf pytorch-deep-learning\n",
        "        from going_modular.going_modular import data_setup, engine\n",
        "    try:\n",
        "      from torchinfo import summary\n",
        "    except ImportError:\n",
        "      !pip install torchinfo\n",
        "      from torchinfo import summary"
      ]
    },
    {
      "cell_type": "code",
      "source": [
        "import torchvision\n",
        "import torch\n",
        "import matplotlib.pyplot as plt\n",
        "from torchinfo import summary\n",
        "from helper_functions import download_data\n",
        "from torchvision import models\n",
        "\n",
        "device = \"cuda\" if torch.cuda.is_available() else \"cpu\""
      ],
      "metadata": {
        "id": "2iJCI_nFe4Ip"
      },
      "id": "2iJCI_nFe4Ip",
      "execution_count": 2,
      "outputs": []
    },
    {
      "cell_type": "markdown",
      "source": [
        "## 1. Getting model and image transformers"
      ],
      "metadata": {
        "id": "sF8ql7qEgnjw"
      },
      "id": "sF8ql7qEgnjw"
    },
    {
      "cell_type": "code",
      "source": [
        "#Download Data\n",
        "image_dir = download_data(source=\"https://github.com/mrdbourke/pytorch-deep-learning/raw/main/data/pizza_steak_sushi.zip\",\n",
        "                         destination=\"pizza_steak_sushi\")\n",
        "test_images_dir = image_dir/\"test\"\n",
        "train_images_dir = image_dir/\"train\""
      ],
      "metadata": {
        "colab": {
          "base_uri": "https://localhost:8080/"
        },
        "id": "AhANQPOafoxD",
        "outputId": "546d008c-5b85-48c8-f4c6-b1d669a5fb04"
      },
      "id": "AhANQPOafoxD",
      "execution_count": 3,
      "outputs": [
        {
          "output_type": "stream",
          "name": "stdout",
          "text": [
            "[INFO] Did not find data/pizza_steak_sushi directory, creating one...\n",
            "[INFO] Downloading pizza_steak_sushi.zip from https://github.com/mrdbourke/pytorch-deep-learning/raw/main/data/pizza_steak_sushi.zip...\n",
            "[INFO] Unzipping pizza_steak_sushi.zip data...\n"
          ]
        }
      ]
    },
    {
      "cell_type": "code",
      "source": [
        "weights = models.EfficientNet_B0_Weights.DEFAULT\n",
        "image_transformers = weights.transforms()\n",
        "\n",
        "train_dataloader, test_dataloader, class_names = data_setup.create_dataloaders(\n",
        "    train_dir=train_images_dir,\n",
        "    test_dir=test_images_dir,\n",
        "    transform=image_transformers,\n",
        "    batch_size=16\n",
        ")\n",
        "\n",
        "len(train_dataloader), len(test_dataloader), class_names, image_transformers"
      ],
      "metadata": {
        "colab": {
          "base_uri": "https://localhost:8080/"
        },
        "id": "d8DDsjjRgnV3",
        "outputId": "a59661c2-cc83-44ba-98d4-f672c59895dd"
      },
      "id": "d8DDsjjRgnV3",
      "execution_count": 4,
      "outputs": [
        {
          "output_type": "execute_result",
          "data": {
            "text/plain": [
              "(15,\n",
              " 5,\n",
              " ['pizza', 'steak', 'sushi'],\n",
              " ImageClassification(\n",
              "     crop_size=[224]\n",
              "     resize_size=[256]\n",
              "     mean=[0.485, 0.456, 0.406]\n",
              "     std=[0.229, 0.224, 0.225]\n",
              "     interpolation=InterpolationMode.BICUBIC\n",
              " ))"
            ]
          },
          "metadata": {},
          "execution_count": 4
        }
      ]
    },
    {
      "cell_type": "markdown",
      "source": [
        "## 2 Setting up pre trained model ready for training"
      ],
      "metadata": {
        "id": "rlcvyKjJi1Lm"
      },
      "id": "rlcvyKjJi1Lm"
    },
    {
      "cell_type": "code",
      "source": [
        "model = models.efficientnet_b0(weights=weights).to(device)"
      ],
      "metadata": {
        "colab": {
          "base_uri": "https://localhost:8080/"
        },
        "id": "uShHIzWDibfv",
        "outputId": "e78b665c-1d38-4115-d6f5-191caa7f2904"
      },
      "id": "uShHIzWDibfv",
      "execution_count": 5,
      "outputs": [
        {
          "output_type": "stream",
          "name": "stdout",
          "text": [
            "Downloading: \"https://download.pytorch.org/models/efficientnet_b0_rwightman-7f5810bc.pth\" to /root/.cache/torch/hub/checkpoints/efficientnet_b0_rwightman-7f5810bc.pth\n"
          ]
        },
        {
          "output_type": "stream",
          "name": "stderr",
          "text": [
            "100%|██████████| 20.5M/20.5M [00:00<00:00, 131MB/s] \n"
          ]
        }
      ]
    },
    {
      "cell_type": "code",
      "source": [
        "def print_model(model: torch.nn.Module = model):\n",
        "    sum = summary(\n",
        "        model=model,\n",
        "        input_size=(1, 3, 224, 224),\n",
        "        col_names=[\"input_size\", \"output_size\", \"num_params\", \"trainable\"],\n",
        "        col_width=17,\n",
        "        row_settings=[\"var_names\"]\n",
        "    )\n",
        "    print(sum)\n",
        "    return sum"
      ],
      "metadata": {
        "id": "-zCPhrBzgnK5"
      },
      "id": "-zCPhrBzgnK5",
      "execution_count": 6,
      "outputs": []
    },
    {
      "cell_type": "code",
      "source": [
        "print_model(model)"
      ],
      "metadata": {
        "colab": {
          "base_uri": "https://localhost:8080/"
        },
        "id": "cQ35crFRhRyw",
        "outputId": "8964d04b-de63-4666-eccc-678a6a9124be"
      },
      "id": "cQ35crFRhRyw",
      "execution_count": 7,
      "outputs": [
        {
          "output_type": "stream",
          "name": "stdout",
          "text": [
            "================================================================================================================================\n",
            "Layer (type (var_name))                                      Input Shape       Output Shape      Param #           Trainable\n",
            "================================================================================================================================\n",
            "EfficientNet (EfficientNet)                                  [1, 3, 224, 224]  [1, 1000]         --                True\n",
            "├─Sequential (features)                                      [1, 3, 224, 224]  [1, 1280, 7, 7]   --                True\n",
            "│    └─Conv2dNormActivation (0)                              [1, 3, 224, 224]  [1, 32, 112, 112] --                True\n",
            "│    │    └─Conv2d (0)                                       [1, 3, 224, 224]  [1, 32, 112, 112] 864               True\n",
            "│    │    └─BatchNorm2d (1)                                  [1, 32, 112, 112] [1, 32, 112, 112] 64                True\n",
            "│    │    └─SiLU (2)                                         [1, 32, 112, 112] [1, 32, 112, 112] --                --\n",
            "│    └─Sequential (1)                                        [1, 32, 112, 112] [1, 16, 112, 112] --                True\n",
            "│    │    └─MBConv (0)                                       [1, 32, 112, 112] [1, 16, 112, 112] 1,448             True\n",
            "│    └─Sequential (2)                                        [1, 16, 112, 112] [1, 24, 56, 56]   --                True\n",
            "│    │    └─MBConv (0)                                       [1, 16, 112, 112] [1, 24, 56, 56]   6,004             True\n",
            "│    │    └─MBConv (1)                                       [1, 24, 56, 56]   [1, 24, 56, 56]   10,710            True\n",
            "│    └─Sequential (3)                                        [1, 24, 56, 56]   [1, 40, 28, 28]   --                True\n",
            "│    │    └─MBConv (0)                                       [1, 24, 56, 56]   [1, 40, 28, 28]   15,350            True\n",
            "│    │    └─MBConv (1)                                       [1, 40, 28, 28]   [1, 40, 28, 28]   31,290            True\n",
            "│    └─Sequential (4)                                        [1, 40, 28, 28]   [1, 80, 14, 14]   --                True\n",
            "│    │    └─MBConv (0)                                       [1, 40, 28, 28]   [1, 80, 14, 14]   37,130            True\n",
            "│    │    └─MBConv (1)                                       [1, 80, 14, 14]   [1, 80, 14, 14]   102,900           True\n",
            "│    │    └─MBConv (2)                                       [1, 80, 14, 14]   [1, 80, 14, 14]   102,900           True\n",
            "│    └─Sequential (5)                                        [1, 80, 14, 14]   [1, 112, 14, 14]  --                True\n",
            "│    │    └─MBConv (0)                                       [1, 80, 14, 14]   [1, 112, 14, 14]  126,004           True\n",
            "│    │    └─MBConv (1)                                       [1, 112, 14, 14]  [1, 112, 14, 14]  208,572           True\n",
            "│    │    └─MBConv (2)                                       [1, 112, 14, 14]  [1, 112, 14, 14]  208,572           True\n",
            "│    └─Sequential (6)                                        [1, 112, 14, 14]  [1, 192, 7, 7]    --                True\n",
            "│    │    └─MBConv (0)                                       [1, 112, 14, 14]  [1, 192, 7, 7]    262,492           True\n",
            "│    │    └─MBConv (1)                                       [1, 192, 7, 7]    [1, 192, 7, 7]    587,952           True\n",
            "│    │    └─MBConv (2)                                       [1, 192, 7, 7]    [1, 192, 7, 7]    587,952           True\n",
            "│    │    └─MBConv (3)                                       [1, 192, 7, 7]    [1, 192, 7, 7]    587,952           True\n",
            "│    └─Sequential (7)                                        [1, 192, 7, 7]    [1, 320, 7, 7]    --                True\n",
            "│    │    └─MBConv (0)                                       [1, 192, 7, 7]    [1, 320, 7, 7]    717,232           True\n",
            "│    └─Conv2dNormActivation (8)                              [1, 320, 7, 7]    [1, 1280, 7, 7]   --                True\n",
            "│    │    └─Conv2d (0)                                       [1, 320, 7, 7]    [1, 1280, 7, 7]   409,600           True\n",
            "│    │    └─BatchNorm2d (1)                                  [1, 1280, 7, 7]   [1, 1280, 7, 7]   2,560             True\n",
            "│    │    └─SiLU (2)                                         [1, 1280, 7, 7]   [1, 1280, 7, 7]   --                --\n",
            "├─AdaptiveAvgPool2d (avgpool)                                [1, 1280, 7, 7]   [1, 1280, 1, 1]   --                --\n",
            "├─Sequential (classifier)                                    [1, 1280]         [1, 1000]         --                True\n",
            "│    └─Dropout (0)                                           [1, 1280]         [1, 1280]         --                --\n",
            "│    └─Linear (1)                                            [1, 1280]         [1, 1000]         1,281,000         True\n",
            "================================================================================================================================\n",
            "Total params: 5,288,548\n",
            "Trainable params: 5,288,548\n",
            "Non-trainable params: 0\n",
            "Total mult-adds (Units.MEGABYTES): 385.87\n",
            "================================================================================================================================\n",
            "Input size (MB): 0.60\n",
            "Forward/backward pass size (MB): 107.89\n",
            "Params size (MB): 21.15\n",
            "Estimated Total Size (MB): 129.64\n",
            "================================================================================================================================\n"
          ]
        },
        {
          "output_type": "execute_result",
          "data": {
            "text/plain": [
              "================================================================================================================================\n",
              "Layer (type (var_name))                                      Input Shape       Output Shape      Param #           Trainable\n",
              "================================================================================================================================\n",
              "EfficientNet (EfficientNet)                                  [1, 3, 224, 224]  [1, 1000]         --                True\n",
              "├─Sequential (features)                                      [1, 3, 224, 224]  [1, 1280, 7, 7]   --                True\n",
              "│    └─Conv2dNormActivation (0)                              [1, 3, 224, 224]  [1, 32, 112, 112] --                True\n",
              "│    │    └─Conv2d (0)                                       [1, 3, 224, 224]  [1, 32, 112, 112] 864               True\n",
              "│    │    └─BatchNorm2d (1)                                  [1, 32, 112, 112] [1, 32, 112, 112] 64                True\n",
              "│    │    └─SiLU (2)                                         [1, 32, 112, 112] [1, 32, 112, 112] --                --\n",
              "│    └─Sequential (1)                                        [1, 32, 112, 112] [1, 16, 112, 112] --                True\n",
              "│    │    └─MBConv (0)                                       [1, 32, 112, 112] [1, 16, 112, 112] 1,448             True\n",
              "│    └─Sequential (2)                                        [1, 16, 112, 112] [1, 24, 56, 56]   --                True\n",
              "│    │    └─MBConv (0)                                       [1, 16, 112, 112] [1, 24, 56, 56]   6,004             True\n",
              "│    │    └─MBConv (1)                                       [1, 24, 56, 56]   [1, 24, 56, 56]   10,710            True\n",
              "│    └─Sequential (3)                                        [1, 24, 56, 56]   [1, 40, 28, 28]   --                True\n",
              "│    │    └─MBConv (0)                                       [1, 24, 56, 56]   [1, 40, 28, 28]   15,350            True\n",
              "│    │    └─MBConv (1)                                       [1, 40, 28, 28]   [1, 40, 28, 28]   31,290            True\n",
              "│    └─Sequential (4)                                        [1, 40, 28, 28]   [1, 80, 14, 14]   --                True\n",
              "│    │    └─MBConv (0)                                       [1, 40, 28, 28]   [1, 80, 14, 14]   37,130            True\n",
              "│    │    └─MBConv (1)                                       [1, 80, 14, 14]   [1, 80, 14, 14]   102,900           True\n",
              "│    │    └─MBConv (2)                                       [1, 80, 14, 14]   [1, 80, 14, 14]   102,900           True\n",
              "│    └─Sequential (5)                                        [1, 80, 14, 14]   [1, 112, 14, 14]  --                True\n",
              "│    │    └─MBConv (0)                                       [1, 80, 14, 14]   [1, 112, 14, 14]  126,004           True\n",
              "│    │    └─MBConv (1)                                       [1, 112, 14, 14]  [1, 112, 14, 14]  208,572           True\n",
              "│    │    └─MBConv (2)                                       [1, 112, 14, 14]  [1, 112, 14, 14]  208,572           True\n",
              "│    └─Sequential (6)                                        [1, 112, 14, 14]  [1, 192, 7, 7]    --                True\n",
              "│    │    └─MBConv (0)                                       [1, 112, 14, 14]  [1, 192, 7, 7]    262,492           True\n",
              "│    │    └─MBConv (1)                                       [1, 192, 7, 7]    [1, 192, 7, 7]    587,952           True\n",
              "│    │    └─MBConv (2)                                       [1, 192, 7, 7]    [1, 192, 7, 7]    587,952           True\n",
              "│    │    └─MBConv (3)                                       [1, 192, 7, 7]    [1, 192, 7, 7]    587,952           True\n",
              "│    └─Sequential (7)                                        [1, 192, 7, 7]    [1, 320, 7, 7]    --                True\n",
              "│    │    └─MBConv (0)                                       [1, 192, 7, 7]    [1, 320, 7, 7]    717,232           True\n",
              "│    └─Conv2dNormActivation (8)                              [1, 320, 7, 7]    [1, 1280, 7, 7]   --                True\n",
              "│    │    └─Conv2d (0)                                       [1, 320, 7, 7]    [1, 1280, 7, 7]   409,600           True\n",
              "│    │    └─BatchNorm2d (1)                                  [1, 1280, 7, 7]   [1, 1280, 7, 7]   2,560             True\n",
              "│    │    └─SiLU (2)                                         [1, 1280, 7, 7]   [1, 1280, 7, 7]   --                --\n",
              "├─AdaptiveAvgPool2d (avgpool)                                [1, 1280, 7, 7]   [1, 1280, 1, 1]   --                --\n",
              "├─Sequential (classifier)                                    [1, 1280]         [1, 1000]         --                True\n",
              "│    └─Dropout (0)                                           [1, 1280]         [1, 1280]         --                --\n",
              "│    └─Linear (1)                                            [1, 1280]         [1, 1000]         1,281,000         True\n",
              "================================================================================================================================\n",
              "Total params: 5,288,548\n",
              "Trainable params: 5,288,548\n",
              "Non-trainable params: 0\n",
              "Total mult-adds (Units.MEGABYTES): 385.87\n",
              "================================================================================================================================\n",
              "Input size (MB): 0.60\n",
              "Forward/backward pass size (MB): 107.89\n",
              "Params size (MB): 21.15\n",
              "Estimated Total Size (MB): 129.64\n",
              "================================================================================================================================"
            ]
          },
          "metadata": {},
          "execution_count": 7
        }
      ]
    },
    {
      "cell_type": "code",
      "source": [
        "for param in model.features.parameters():\n",
        "  param.requires_grad = False\n",
        "\n",
        "model.classifier = torch.nn.Sequential(\n",
        "    torch.nn.Dropout(p=0.2, inplace=True),\n",
        "    torch.nn.Linear(in_features=1280, out_features=3, bias=True)\n",
        ")\n",
        "\n",
        "print_model()"
      ],
      "metadata": {
        "colab": {
          "base_uri": "https://localhost:8080/"
        },
        "id": "A6mZjKpLi4yB",
        "outputId": "a0ff7df0-e5ab-48b4-c079-d9e8ff09e573"
      },
      "id": "A6mZjKpLi4yB",
      "execution_count": 8,
      "outputs": [
        {
          "output_type": "stream",
          "name": "stdout",
          "text": [
            "================================================================================================================================\n",
            "Layer (type (var_name))                                      Input Shape       Output Shape      Param #           Trainable\n",
            "================================================================================================================================\n",
            "EfficientNet (EfficientNet)                                  [1, 3, 224, 224]  [1, 3]            --                Partial\n",
            "├─Sequential (features)                                      [1, 3, 224, 224]  [1, 1280, 7, 7]   --                False\n",
            "│    └─Conv2dNormActivation (0)                              [1, 3, 224, 224]  [1, 32, 112, 112] --                False\n",
            "│    │    └─Conv2d (0)                                       [1, 3, 224, 224]  [1, 32, 112, 112] (864)             False\n",
            "│    │    └─BatchNorm2d (1)                                  [1, 32, 112, 112] [1, 32, 112, 112] (64)              False\n",
            "│    │    └─SiLU (2)                                         [1, 32, 112, 112] [1, 32, 112, 112] --                --\n",
            "│    └─Sequential (1)                                        [1, 32, 112, 112] [1, 16, 112, 112] --                False\n",
            "│    │    └─MBConv (0)                                       [1, 32, 112, 112] [1, 16, 112, 112] (1,448)           False\n",
            "│    └─Sequential (2)                                        [1, 16, 112, 112] [1, 24, 56, 56]   --                False\n",
            "│    │    └─MBConv (0)                                       [1, 16, 112, 112] [1, 24, 56, 56]   (6,004)           False\n",
            "│    │    └─MBConv (1)                                       [1, 24, 56, 56]   [1, 24, 56, 56]   (10,710)          False\n",
            "│    └─Sequential (3)                                        [1, 24, 56, 56]   [1, 40, 28, 28]   --                False\n",
            "│    │    └─MBConv (0)                                       [1, 24, 56, 56]   [1, 40, 28, 28]   (15,350)          False\n",
            "│    │    └─MBConv (1)                                       [1, 40, 28, 28]   [1, 40, 28, 28]   (31,290)          False\n",
            "│    └─Sequential (4)                                        [1, 40, 28, 28]   [1, 80, 14, 14]   --                False\n",
            "│    │    └─MBConv (0)                                       [1, 40, 28, 28]   [1, 80, 14, 14]   (37,130)          False\n",
            "│    │    └─MBConv (1)                                       [1, 80, 14, 14]   [1, 80, 14, 14]   (102,900)         False\n",
            "│    │    └─MBConv (2)                                       [1, 80, 14, 14]   [1, 80, 14, 14]   (102,900)         False\n",
            "│    └─Sequential (5)                                        [1, 80, 14, 14]   [1, 112, 14, 14]  --                False\n",
            "│    │    └─MBConv (0)                                       [1, 80, 14, 14]   [1, 112, 14, 14]  (126,004)         False\n",
            "│    │    └─MBConv (1)                                       [1, 112, 14, 14]  [1, 112, 14, 14]  (208,572)         False\n",
            "│    │    └─MBConv (2)                                       [1, 112, 14, 14]  [1, 112, 14, 14]  (208,572)         False\n",
            "│    └─Sequential (6)                                        [1, 112, 14, 14]  [1, 192, 7, 7]    --                False\n",
            "│    │    └─MBConv (0)                                       [1, 112, 14, 14]  [1, 192, 7, 7]    (262,492)         False\n",
            "│    │    └─MBConv (1)                                       [1, 192, 7, 7]    [1, 192, 7, 7]    (587,952)         False\n",
            "│    │    └─MBConv (2)                                       [1, 192, 7, 7]    [1, 192, 7, 7]    (587,952)         False\n",
            "│    │    └─MBConv (3)                                       [1, 192, 7, 7]    [1, 192, 7, 7]    (587,952)         False\n",
            "│    └─Sequential (7)                                        [1, 192, 7, 7]    [1, 320, 7, 7]    --                False\n",
            "│    │    └─MBConv (0)                                       [1, 192, 7, 7]    [1, 320, 7, 7]    (717,232)         False\n",
            "│    └─Conv2dNormActivation (8)                              [1, 320, 7, 7]    [1, 1280, 7, 7]   --                False\n",
            "│    │    └─Conv2d (0)                                       [1, 320, 7, 7]    [1, 1280, 7, 7]   (409,600)         False\n",
            "│    │    └─BatchNorm2d (1)                                  [1, 1280, 7, 7]   [1, 1280, 7, 7]   (2,560)           False\n",
            "│    │    └─SiLU (2)                                         [1, 1280, 7, 7]   [1, 1280, 7, 7]   --                --\n",
            "├─AdaptiveAvgPool2d (avgpool)                                [1, 1280, 7, 7]   [1, 1280, 1, 1]   --                --\n",
            "├─Sequential (classifier)                                    [1, 1280]         [1, 3]            --                True\n",
            "│    └─Dropout (0)                                           [1, 1280]         [1, 1280]         --                --\n",
            "│    └─Linear (1)                                            [1, 1280]         [1, 3]            3,843             True\n",
            "================================================================================================================================\n",
            "Total params: 4,011,391\n",
            "Trainable params: 3,843\n",
            "Non-trainable params: 4,007,548\n",
            "Total mult-adds (Units.MEGABYTES): 384.59\n",
            "================================================================================================================================\n",
            "Input size (MB): 0.60\n",
            "Forward/backward pass size (MB): 107.88\n",
            "Params size (MB): 16.05\n",
            "Estimated Total Size (MB): 124.53\n",
            "================================================================================================================================\n"
          ]
        },
        {
          "output_type": "execute_result",
          "data": {
            "text/plain": [
              "================================================================================================================================\n",
              "Layer (type (var_name))                                      Input Shape       Output Shape      Param #           Trainable\n",
              "================================================================================================================================\n",
              "EfficientNet (EfficientNet)                                  [1, 3, 224, 224]  [1, 3]            --                Partial\n",
              "├─Sequential (features)                                      [1, 3, 224, 224]  [1, 1280, 7, 7]   --                False\n",
              "│    └─Conv2dNormActivation (0)                              [1, 3, 224, 224]  [1, 32, 112, 112] --                False\n",
              "│    │    └─Conv2d (0)                                       [1, 3, 224, 224]  [1, 32, 112, 112] (864)             False\n",
              "│    │    └─BatchNorm2d (1)                                  [1, 32, 112, 112] [1, 32, 112, 112] (64)              False\n",
              "│    │    └─SiLU (2)                                         [1, 32, 112, 112] [1, 32, 112, 112] --                --\n",
              "│    └─Sequential (1)                                        [1, 32, 112, 112] [1, 16, 112, 112] --                False\n",
              "│    │    └─MBConv (0)                                       [1, 32, 112, 112] [1, 16, 112, 112] (1,448)           False\n",
              "│    └─Sequential (2)                                        [1, 16, 112, 112] [1, 24, 56, 56]   --                False\n",
              "│    │    └─MBConv (0)                                       [1, 16, 112, 112] [1, 24, 56, 56]   (6,004)           False\n",
              "│    │    └─MBConv (1)                                       [1, 24, 56, 56]   [1, 24, 56, 56]   (10,710)          False\n",
              "│    └─Sequential (3)                                        [1, 24, 56, 56]   [1, 40, 28, 28]   --                False\n",
              "│    │    └─MBConv (0)                                       [1, 24, 56, 56]   [1, 40, 28, 28]   (15,350)          False\n",
              "│    │    └─MBConv (1)                                       [1, 40, 28, 28]   [1, 40, 28, 28]   (31,290)          False\n",
              "│    └─Sequential (4)                                        [1, 40, 28, 28]   [1, 80, 14, 14]   --                False\n",
              "│    │    └─MBConv (0)                                       [1, 40, 28, 28]   [1, 80, 14, 14]   (37,130)          False\n",
              "│    │    └─MBConv (1)                                       [1, 80, 14, 14]   [1, 80, 14, 14]   (102,900)         False\n",
              "│    │    └─MBConv (2)                                       [1, 80, 14, 14]   [1, 80, 14, 14]   (102,900)         False\n",
              "│    └─Sequential (5)                                        [1, 80, 14, 14]   [1, 112, 14, 14]  --                False\n",
              "│    │    └─MBConv (0)                                       [1, 80, 14, 14]   [1, 112, 14, 14]  (126,004)         False\n",
              "│    │    └─MBConv (1)                                       [1, 112, 14, 14]  [1, 112, 14, 14]  (208,572)         False\n",
              "│    │    └─MBConv (2)                                       [1, 112, 14, 14]  [1, 112, 14, 14]  (208,572)         False\n",
              "│    └─Sequential (6)                                        [1, 112, 14, 14]  [1, 192, 7, 7]    --                False\n",
              "│    │    └─MBConv (0)                                       [1, 112, 14, 14]  [1, 192, 7, 7]    (262,492)         False\n",
              "│    │    └─MBConv (1)                                       [1, 192, 7, 7]    [1, 192, 7, 7]    (587,952)         False\n",
              "│    │    └─MBConv (2)                                       [1, 192, 7, 7]    [1, 192, 7, 7]    (587,952)         False\n",
              "│    │    └─MBConv (3)                                       [1, 192, 7, 7]    [1, 192, 7, 7]    (587,952)         False\n",
              "│    └─Sequential (7)                                        [1, 192, 7, 7]    [1, 320, 7, 7]    --                False\n",
              "│    │    └─MBConv (0)                                       [1, 192, 7, 7]    [1, 320, 7, 7]    (717,232)         False\n",
              "│    └─Conv2dNormActivation (8)                              [1, 320, 7, 7]    [1, 1280, 7, 7]   --                False\n",
              "│    │    └─Conv2d (0)                                       [1, 320, 7, 7]    [1, 1280, 7, 7]   (409,600)         False\n",
              "│    │    └─BatchNorm2d (1)                                  [1, 1280, 7, 7]   [1, 1280, 7, 7]   (2,560)           False\n",
              "│    │    └─SiLU (2)                                         [1, 1280, 7, 7]   [1, 1280, 7, 7]   --                --\n",
              "├─AdaptiveAvgPool2d (avgpool)                                [1, 1280, 7, 7]   [1, 1280, 1, 1]   --                --\n",
              "├─Sequential (classifier)                                    [1, 1280]         [1, 3]            --                True\n",
              "│    └─Dropout (0)                                           [1, 1280]         [1, 1280]         --                --\n",
              "│    └─Linear (1)                                            [1, 1280]         [1, 3]            3,843             True\n",
              "================================================================================================================================\n",
              "Total params: 4,011,391\n",
              "Trainable params: 3,843\n",
              "Non-trainable params: 4,007,548\n",
              "Total mult-adds (Units.MEGABYTES): 384.59\n",
              "================================================================================================================================\n",
              "Input size (MB): 0.60\n",
              "Forward/backward pass size (MB): 107.88\n",
              "Params size (MB): 16.05\n",
              "Estimated Total Size (MB): 124.53\n",
              "================================================================================================================================"
            ]
          },
          "metadata": {},
          "execution_count": 8
        }
      ]
    },
    {
      "cell_type": "code",
      "source": [
        "# I incorporated the SummaryWritter for experiment trackinging in helper_functions.py's PytorchModelTrainer\n",
        "# Here is how it works though\n",
        "\n",
        "# from torch.utils.tensorboard import SummaryWriter\n",
        "# writer = SummaryWriter()\n",
        "# writer.add_text('Model Summary', str(print_model(model)))\n",
        "# for epoch in epochs:\n",
        "#   model.train()\n",
        "#   ...\n",
        "#   # train loop\n",
        "#   #calculate loss\n",
        "#   writer.add_scalar(\"Loss/Train\", loss.item(), epoch)\n",
        "#   writter.add_scalar(\"Accuracy/Train\" ...)"
      ],
      "metadata": {
        "id": "gGsdnaIoG4Hd"
      },
      "id": "gGsdnaIoG4Hd",
      "execution_count": 9,
      "outputs": []
    },
    {
      "cell_type": "code",
      "source": [
        "from helper_functions import PytorchModelTranier\n",
        "\n",
        "trainer = PytorchModelTranier(\n",
        "    name='v0_pretrained_effnet_b0',\n",
        "    model=model,\n",
        "    train_dataloader=train_dataloader,\n",
        "    test_dataloader=test_dataloader,\n",
        "    lr=0.001\n",
        ")"
      ],
      "metadata": {
        "id": "gcN3Rb1NP47z"
      },
      "id": "gcN3Rb1NP47z",
      "execution_count": 10,
      "outputs": []
    },
    {
      "cell_type": "code",
      "source": [
        "trainer.train(3)"
      ],
      "metadata": {
        "colab": {
          "base_uri": "https://localhost:8080/",
          "height": 156,
          "referenced_widgets": [
            "6d16017a80924c25963c2bdaf72c5fae",
            "835d093727f04cf0be113b197d82799b",
            "68d45654866a4cbe969a8e94972dae98",
            "abfa98fad33d42b997e61bcf10095515",
            "d88bf5509e7740a29155b771d33b924f",
            "c2c4d0dda6fd4df2b10fb4d4e6392ed4",
            "6cd3ea81783b4894adcb4c712d79ee67",
            "ad18faea8bae48d48f11bd6f77c4ae98",
            "c2d8f8afadb9473f91f46eb1ac3438ec",
            "5205ce4c0cfe43759ca877ca80fcd220",
            "66cf1977934f42129f2482e0f54fa0b0"
          ]
        },
        "id": "TE7fJ4sDQZQJ",
        "outputId": "218426cc-88a7-4d2f-f867-aa9f486b5223"
      },
      "id": "TE7fJ4sDQZQJ",
      "execution_count": 15,
      "outputs": [
        {
          "output_type": "display_data",
          "data": {
            "text/plain": [
              "  0%|          | 0/3 [00:00<?, ?it/s]"
            ],
            "application/vnd.jupyter.widget-view+json": {
              "version_major": 2,
              "version_minor": 0,
              "model_id": "6d16017a80924c25963c2bdaf72c5fae"
            }
          },
          "metadata": {}
        },
        {
          "output_type": "stream",
          "name": "stderr",
          "text": [
            "/usr/local/lib/python3.12/dist-packages/torch/utils/data/dataloader.py:666: UserWarning: 'pin_memory' argument is set as true but no accelerator is found, then device pinned memory won't be used.\n",
            "  warnings.warn(warn_msg)\n"
          ]
        },
        {
          "output_type": "stream",
          "name": "stdout",
          "text": [
            "Epoch 1/3 Train Loss: 0.6237 | Train Acc: 83.75% Test Loss: 0.5839 | Test Acc: 84.43%\n",
            "Epoch 2/3 Train Loss: 0.5571 | Train Acc: 81.25% Test Loss: 0.5210 | Test Acc: 83.86%\n",
            "Epoch 3/3 Train Loss: 0.4615 | Train Acc: 92.50% Test Loss: 0.4684 | Test Acc: 85.11%\n"
          ]
        }
      ]
    },
    {
      "cell_type": "code",
      "source": [
        "trainer.plot_losses()"
      ],
      "metadata": {
        "colab": {
          "base_uri": "https://localhost:8080/",
          "height": 459
        },
        "id": "7RuY22b9cdzs",
        "outputId": "0cf9f759-98f3-4b79-83b3-cf4bc598f579"
      },
      "id": "7RuY22b9cdzs",
      "execution_count": 16,
      "outputs": [
        {
          "output_type": "display_data",
          "data": {
            "text/plain": [
              "<Figure size 1500x700 with 2 Axes>"
            ],
            "image/png": "[encoded data removed]"
          },
          "metadata": {}
        }
      ]
    }
  ],
  "metadata": {
    "kernelspec": {
      "display_name": "venv",
      "language": "python",
      "name": "python3"
    },
    "language_info": {
      "codemirror_mode": {
        "name": "ipython",
        "version": 3
      },
      "file_extension": ".py",
      "mimetype": "text/x-python",
      "name": "python",
      "nbconvert_exporter": "python",
      "pygments_lexer": "ipython3",
      "version": "3.12.10"
    },
    "colab": {
      "provenance": [],
      "include_colab_link": true
    },
    "widgets": {
      "application/vnd.jupyter.widget-state+json": {
        "6d16017a80924c25963c2bdaf72c5fae": {
          "model_module": "@jupyter-widgets/controls",
          "model_name": "HBoxModel",
          "model_module_version": "1.5.0",
          "state": {
            "_dom_classes": [],
            "_model_module": "@jupyter-widgets/controls",
            "_model_module_version": "1.5.0",
            "_model_name": "HBoxModel",
            "_view_count": null,
            "_view_module": "@jupyter-widgets/controls",
            "_view_module_version": "1.5.0",
            "_view_name": "HBoxView",
            "box_style": "",
            "children": [
              "IPY_MODEL_835d093727f04cf0be113b197d82799b",
              "IPY_MODEL_68d45654866a4cbe969a8e94972dae98",
              "IPY_MODEL_abfa98fad33d42b997e61bcf10095515"
            ],
            "layout": "IPY_MODEL_d88bf5509e7740a29155b771d33b924f"
          }
        },
        "835d093727f04cf0be113b197d82799b": {
          "model_module": "@jupyter-widgets/controls",
          "model_name": "HTMLModel",
          "model_module_version": "1.5.0",
          "state": {
            "_dom_classes": [],
            "_model_module": "@jupyter-widgets/controls",
            "_model_module_version": "1.5.0",
            "_model_name": "HTMLModel",
            "_view_count": null,
            "_view_module": "@jupyter-widgets/controls",
            "_view_module_version": "1.5.0",
            "_view_name": "HTMLView",
            "description": "",
            "description_tooltip": null,
            "layout": "IPY_MODEL_c2c4d0dda6fd4df2b10fb4d4e6392ed4",
            "placeholder": "​",
            "style": "IPY_MODEL_6cd3ea81783b4894adcb4c712d79ee67",
            "value": "100%"
          }
        },
        "68d45654866a4cbe969a8e94972dae98": {
          "model_module": "@jupyter-widgets/controls",
          "model_name": "FloatProgressModel",
          "model_module_version": "1.5.0",
          "state": {
            "_dom_classes": [],
            "_model_module": "@jupyter-widgets/controls",
            "_model_module_version": "1.5.0",
            "_model_name": "FloatProgressModel",
            "_view_count": null,
            "_view_module": "@jupyter-widgets/controls",
            "_view_module_version": "1.5.0",
            "_view_name": "ProgressView",
            "bar_style": "success",
            "description": "",
            "description_tooltip": null,
            "layout": "IPY_MODEL_ad18faea8bae48d48f11bd6f77c4ae98",
            "max": 3,
            "min": 0,
            "orientation": "horizontal",
            "style": "IPY_MODEL_c2d8f8afadb9473f91f46eb1ac3438ec",
            "value": 3
          }
        },
        "abfa98fad33d42b997e61bcf10095515": {
          "model_module": "@jupyter-widgets/controls",
          "model_name": "HTMLModel",
          "model_module_version": "1.5.0",
          "state": {
            "_dom_classes": [],
            "_model_module": "@jupyter-widgets/controls",
            "_model_module_version": "1.5.0",
            "_model_name": "HTMLModel",
            "_view_count": null,
            "_view_module": "@jupyter-widgets/controls",
            "_view_module_version": "1.5.0",
            "_view_name": "HTMLView",
            "description": "",
            "description_tooltip": null,
            "layout": "IPY_MODEL_5205ce4c0cfe43759ca877ca80fcd220",
            "placeholder": "​",
            "style": "IPY_MODEL_66cf1977934f42129f2482e0f54fa0b0",
            "value": " 3/3 [00:50&lt;00:00, 16.93s/it]"
          }
        },
        "d88bf5509e7740a29155b771d33b924f": {
          "model_module": "@jupyter-widgets/base",
          "model_name": "LayoutModel",
          "model_module_version": "1.2.0",
          "state": {
            "_model_module": "@jupyter-widgets/base",
            "_model_module_version": "1.2.0",
            "_model_name": "LayoutModel",
            "_view_count": null,
            "_view_module": "@jupyter-widgets/base",
            "_view_module_version": "1.2.0",
            "_view_name": "LayoutView",
            "align_content": null,
            "align_items": null,
            "align_self": null,
            "border": null,
            "bottom": null,
            "display": null,
            "flex": null,
            "flex_flow": null,
            "grid_area": null,
            "grid_auto_columns": null,
            "grid_auto_flow": null,
            "grid_auto_rows": null,
            "grid_column": null,
            "grid_gap": null,
            "grid_row": null,
            "grid_template_areas": null,
            "grid_template_columns": null,
            "grid_template_rows": null,
            "height": null,
            "justify_content": null,
            "justify_items": null,
            "left": null,
            "margin": null,
            "max_height": null,
            "max_width": null,
            "min_height": null,
            "min_width": null,
            "object_fit": null,
            "object_position": null,
            "order": null,
            "overflow": null,
            "overflow_x": null,
            "overflow_y": null,
            "padding": null,
            "right": null,
            "top": null,
            "visibility": null,
            "width": null
          }
        },
        "c2c4d0dda6fd4df2b10fb4d4e6392ed4": {
          "model_module": "@jupyter-widgets/base",
          "model_name": "LayoutModel",
          "model_module_version": "1.2.0",
          "state": {
            "_model_module": "@jupyter-widgets/base",
            "_model_module_version": "1.2.0",
            "_model_name": "LayoutModel",
            "_view_count": null,
            "_view_module": "@jupyter-widgets/base",
            "_view_module_version": "1.2.0",
            "_view_name": "LayoutView",
            "align_content": null,
            "align_items": null,
            "align_self": null,
            "border": null,
            "bottom": null,
            "display": null,
            "flex": null,
            "flex_flow": null,
            "grid_area": null,
            "grid_auto_columns": null,
            "grid_auto_flow": null,
            "grid_auto_rows": null,
            "grid_column": null,
            "grid_gap": null,
            "grid_row": null,
            "grid_template_areas": null,
            "grid_template_columns": null,
            "grid_template_rows": null,
            "height": null,
            "justify_content": null,
            "justify_items": null,
            "left": null,
            "margin": null,
            "max_height": null,
            "max_width": null,
            "min_height": null,
            "min_width": null,
            "object_fit": null,
            "object_position": null,
            "order": null,
            "overflow": null,
            "overflow_x": null,
            "overflow_y": null,
            "padding": null,
            "right": null,
            "top": null,
            "visibility": null,
            "width": null
          }
        },
        "6cd3ea81783b4894adcb4c712d79ee67": {
          "model_module": "@jupyter-widgets/controls",
          "model_name": "DescriptionStyleModel",
          "model_module_version": "1.5.0",
          "state": {
            "_model_module": "@jupyter-widgets/controls",
            "_model_module_version": "1.5.0",
            "_model_name": "DescriptionStyleModel",
            "_view_count": null,
            "_view_module": "@jupyter-widgets/base",
            "_view_module_version": "1.2.0",
            "_view_name": "StyleView",
            "description_width": ""
          }
        },
        "ad18faea8bae48d48f11bd6f77c4ae98": {
          "model_module": "@jupyter-widgets/base",
          "model_name": "LayoutModel",
          "model_module_version": "1.2.0",
          "state": {
            "_model_module": "@jupyter-widgets/base",
            "_model_module_version": "1.2.0",
            "_model_name": "LayoutModel",
            "_view_count": null,
            "_view_module": "@jupyter-widgets/base",
            "_view_module_version": "1.2.0",
            "_view_name": "LayoutView",
            "align_content": null,
            "align_items": null,
            "align_self": null,
            "border": null,
            "bottom": null,
            "display": null,
            "flex": null,
            "flex_flow": null,
            "grid_area": null,
            "grid_auto_columns": null,
            "grid_auto_flow": null,
            "grid_auto_rows": null,
            "grid_column": null,
            "grid_gap": null,
            "grid_row": null,
            "grid_template_areas": null,
            "grid_template_columns": null,
            "grid_template_rows": null,
            "height": null,
            "justify_content": null,
            "justify_items": null,
            "left": null,
            "margin": null,
            "max_height": null,
            "max_width": null,
            "min_height": null,
            "min_width": null,
            "object_fit": null,
            "object_position": null,
            "order": null,
            "overflow": null,
            "overflow_x": null,
            "overflow_y": null,
            "padding": null,
            "right": null,
            "top": null,
            "visibility": null,
            "width": null
          }
        },
        "c2d8f8afadb9473f91f46eb1ac3438ec": {
          "model_module": "@jupyter-widgets/controls",
          "model_name": "ProgressStyleModel",
          "model_module_version": "1.5.0",
          "state": {
            "_model_module": "@jupyter-widgets/controls",
            "_model_module_version": "1.5.0",
            "_model_name": "ProgressStyleModel",
            "_view_count": null,
            "_view_module": "@jupyter-widgets/base",
            "_view_module_version": "1.2.0",
            "_view_name": "StyleView",
            "bar_color": null,
            "description_width": ""
          }
        },
        "5205ce4c0cfe43759ca877ca80fcd220": {
          "model_module": "@jupyter-widgets/base",
          "model_name": "LayoutModel",
          "model_module_version": "1.2.0",
          "state": {
            "_model_module": "@jupyter-widgets/base",
            "_model_module_version": "1.2.0",
            "_model_name": "LayoutModel",
            "_view_count": null,
            "_view_module": "@jupyter-widgets/base",
            "_view_module_version": "1.2.0",
            "_view_name": "LayoutView",
            "align_content": null,
            "align_items": null,
            "align_self": null,
            "border": null,
            "bottom": null,
            "display": null,
            "flex": null,
            "flex_flow": null,
            "grid_area": null,
            "grid_auto_columns": null,
            "grid_auto_flow": null,
            "grid_auto_rows": null,
            "grid_column": null,
            "grid_gap": null,
            "grid_row": null,
            "grid_template_areas": null,
            "grid_template_columns": null,
            "grid_template_rows": null,
            "height": null,
            "justify_content": null,
            "justify_items": null,
            "left": null,
            "margin": null,
            "max_height": null,
            "max_width": null,
            "min_height": null,
            "min_width": null,
            "object_fit": null,
            "object_position": null,
            "order": null,
            "overflow": null,
            "overflow_x": null,
            "overflow_y": null,
            "padding": null,
            "right": null,
            "top": null,
            "visibility": null,
            "width": null
          }
        },
        "66cf1977934f42129f2482e0f54fa0b0": {
          "model_module": "@jupyter-widgets/controls",
          "model_name": "DescriptionStyleModel",
          "model_module_version": "1.5.0",
          "state": {
            "_model_module": "@jupyter-widgets/controls",
            "_model_module_version": "1.5.0",
            "_model_name": "DescriptionStyleModel",
            "_view_count": null,
            "_view_module": "@jupyter-widgets/base",
            "_view_module_version": "1.2.0",
            "_view_name": "StyleView",
            "description_width": ""
          }
        }
      }
    }
  },
  "nbformat": 4,
  "nbformat_minor": 5
}