{
 "cells": [
  {
   "cell_type": "markdown",
   "id": "ffb5d349",
   "metadata": {},
   "source": [
    "# Tracking Experiments\n",
    "\n",
    "With ML projects, we usually train 20+ models, and which introduces a different set of problems. Tracking of these experiments is important and there are various tools just for this\n",
    "\n",
    "1. In built pytorch's board\n",
    "2. 3rd party tools like weights and bias https://wandb.ai/site/\n",
    "3. mlflow - another 3rd party\n",
    "\n",
    "there are many more solutsion"
   ]
  },
  {
   "cell_type": "code",
   "execution_count": 3,
   "id": "ce6cb538",
   "metadata": {},
   "outputs": [],
   "source": [
    "try:\n",
    "    import google.colab\n",
    "    IN_COLAB = True\n",
    "except ImportError:\n",
    "    IN_COLAB = False"
   ]
  },
  {
   "cell_type": "code",
   "execution_count": null,
   "id": "36ba5acc",
   "metadata": {},
   "outputs": [],
   "source": [
    "# from going_modular.going_modular import data_setup, engine\n",
    "if not IN_COLAB:\n",
    "    try:\n",
    "        from going_modular.going_modular import data_setup, engine\n",
    "    except ImportError:\n",
    "        import os\n",
    "        import sys\n",
    "        from pathlib import Path\n",
    "        sys.path.append(str(Path(os.path.abspath('')).parent))\n",
    "        from going_modular.going_modular import data_setup\n",
    "else: \n",
    "    try:\n",
    "        from going_modular.going_modular import data_setup, engine\n",
    "    except:\n",
    "        # Get the going_modular scripts\n",
    "        print(\"[INFO] Couldn't find going_modular scripts... downloading them from GitHub.\")\n",
    "        !git clone https://github.com/harshankbansal/pytorch-deep-learning\n",
    "        !mv pytorch-deep-learning/going_modular .\n",
    "        !mv helper_functions.py .\n",
    "        !mv data .\n",
    "        !rm -rf pytorch-deep-learning\n",
    "        from going_modular.going_modular import data_setup, engine\n",
    "\n",
    "import helper_functions"
   ]
  }
 ],
 "metadata": {
  "kernelspec": {
   "display_name": "venv",
   "language": "python",
   "name": "python3"
  },
  "language_info": {
   "codemirror_mode": {
    "name": "ipython",
    "version": 3
   },
   "file_extension": ".py",
   "mimetype": "text/x-python",
   "name": "python",
   "nbconvert_exporter": "python",
   "pygments_lexer": "ipython3",
   "version": "3.12.10"
  }
 },
 "nbformat": 4,
 "nbformat_minor": 5
}
