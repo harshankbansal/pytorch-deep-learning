{
  "cells": [
    {
      "cell_type": "markdown",
      "metadata": {
        "id": "view-in-github",
        "colab_type": "text"
      },
      "source": [
        "<a href=\"https://colab.research.google.com/github/harshankbansal/pytorch-deep-learning/blob/main/lectures/07_experimentations.ipynb\" target=\"_parent\"><img src=\"https://colab.research.google.com/assets/colab-badge.svg\" alt=\"Open In Colab\"/></a>"
      ]
    },
    {
      "cell_type": "markdown",
      "id": "ffb5d349",
      "metadata": {
        "id": "ffb5d349"
      },
      "source": [
        "# Tracking Experiments\n",
        "\n",
        "With ML projects, we usually train 20+ models, and which introduces a different set of problems. Tracking of these experiments is important and there are various tools just for this\n",
        "\n",
        "1. In built pytorch's board\n",
        "2. 3rd party tools like weights and bias https://wandb.ai/site/\n",
        "3. mlflow - another 3rd party\n",
        "\n",
        "there are many more solutsion"
      ]
    },
    {
      "cell_type": "code",
      "execution_count": 1,
      "id": "36ba5acc",
      "metadata": {
        "id": "36ba5acc",
        "outputId": "3ec9982c-319f-44b2-a974-c38f33f7bdf3",
        "colab": {
          "base_uri": "https://localhost:8080/"
        }
      },
      "outputs": [
        {
          "output_type": "stream",
          "name": "stdout",
          "text": [
            "[INFO] Couldn't find going_modular scripts... downloading them from GitHub.\n",
            "Cloning into 'pytorch-deep-learning'...\n",
            "remote: Enumerating objects: 4364, done.\u001b[K\n",
            "remote: Counting objects: 100% (21/21), done.\u001b[K\n",
            "remote: Compressing objects: 100% (6/6), done.\u001b[K\n",
            "remote: Total 4364 (delta 16), reused 15 (delta 15), pack-reused 4343 (from 2)\u001b[K\n",
            "Receiving objects: 100% (4364/4364), 762.51 MiB | 33.43 MiB/s, done.\n",
            "Resolving deltas: 100% (2645/2645), done.\n",
            "Updating files: 100% (257/257), done.\n"
          ]
        }
      ],
      "source": [
        "# Set up imports. Thanks to python it is unnecessarily complicated\n",
        "try:\n",
        "    import google.colab\n",
        "    IN_COLAB = True\n",
        "except ImportError:\n",
        "    IN_COLAB = False\n",
        "\n",
        "if not IN_COLAB:\n",
        "    try:\n",
        "        from going_modular.going_modular import data_setup, engine\n",
        "    except ImportError:\n",
        "        import os\n",
        "        import sys\n",
        "        from pathlib import Path\n",
        "        sys.path.append(str(Path(os.path.abspath('')).parent))\n",
        "        from going_modular.going_modular import data_setup\n",
        "else:\n",
        "    try:\n",
        "        from going_modular.going_modular import data_setup, engine\n",
        "    except:\n",
        "        # Get the going_modular scripts\n",
        "        print(\"[INFO] Couldn't find going_modular scripts... downloading them from GitHub.\")\n",
        "        !git clone https://github.com/harshankbansal/pytorch-deep-learning\n",
        "        !mv pytorch-deep-learning/going_modular .\n",
        "        !mv pytorch-deep-learning/helper_functions.py .\n",
        "        !mv pytorch-deep-learning/data .\n",
        "        !rm -rf pytorch-deep-learning\n",
        "        from going_modular.going_modular import data_setup, engine\n",
        "\n",
        "import helper_functions"
      ]
    }
  ],
  "metadata": {
    "kernelspec": {
      "display_name": "venv",
      "language": "python",
      "name": "python3"
    },
    "language_info": {
      "codemirror_mode": {
        "name": "ipython",
        "version": 3
      },
      "file_extension": ".py",
      "mimetype": "text/x-python",
      "name": "python",
      "nbconvert_exporter": "python",
      "pygments_lexer": "ipython3",
      "version": "3.12.10"
    },
    "colab": {
      "provenance": [],
      "include_colab_link": true
    }
  },
  "nbformat": 4,
  "nbformat_minor": 5
}